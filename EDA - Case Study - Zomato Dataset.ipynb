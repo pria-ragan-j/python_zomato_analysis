{
 "cells": [
  {
   "cell_type": "markdown",
   "metadata": {
    "id": "SAxz6EfzRkrp"
   },
   "source": [
    "<table align=\"center\" width=100%>\n",
    "    <tr>\n",
    "        <td width=\"15%\">\n",
    "            <img src=\"GL-2.png\">\n",
    "        </td>\n",
    "        <td>\n",
    "            <div align=\"center\">\n",
    "                <font color=\"#21618C\" size=24px>\n",
    "                    <b>Exploratory Data Analysis\n",
    "                    </b>\n",
    "                </font>\n",
    "            </div>\n",
    "        </td>\n",
    "    </tr>\n",
    "</table>"
   ]
  },
  {
   "cell_type": "markdown",
   "metadata": {
    "id": "C_6Bd8BmRkr1"
   },
   "source": [
    "## Problem Statement\n",
    "\n",
    "The Zomato exploratory data analysis aims to assist food enthusiasts in discovering the best restaurants and value-for-money options within their locality. It facilitates locating desired cuisines available nearby. With a dataset encompassing restaurant details like establishment type, address, city, locality, and cuisine offerings, alongside attributes such as average cost for two, price range, and aggregate ratings, the objective is to uncover insights into restaurant preferences and dining trends. Through analyzing factors like average cost, ratings, and customer engagement metrics such as votes and photo counts, this study seeks to provide actionable recommendations for diners seeking satisfying dining experiences."
   ]
  },
  {
   "cell_type": "markdown",
   "metadata": {
    "id": "N8IyuJ89Rkr2"
   },
   "source": [
    "## Data Definition\n",
    "\n",
    "**res_id**: The code given to a restaurant (Categorical) \n",
    "\n",
    "**name**: Name of the restaurant (Categorical)\n",
    "\n",
    "**establishment**: Represents the type of establishment (Categorical)\n",
    "\n",
    "**url**: The website of the restaurant (Categorical)\n",
    "\n",
    "**address**: The address of the restaurant (Categorical)\n",
    "\n",
    "**city**: City in which the restaurant located (Categorical)\n",
    "\n",
    "**city_id**: The code given to a city (Categorical)\n",
    "\n",
    "**locality**: Locality of the restaurant (Categorical)\n",
    "\n",
    "**latitude**: Latitude of the restaurant (Categorical)\n",
    "\n",
    "**longitude**: Longitude of the restaurant (Categorical)\n",
    "\n",
    "**zipcode**: Zipcode of the city in which the restaurant located (Categorical)\n",
    "\n",
    "**country_id**: Country code in which the restaurant located (Categorical)\n",
    "\n",
    "**locality_verbose**: Locality along with the city in which the restaurant located (Categorical)\n",
    "\n",
    "**cuisines**: The cuisines a restaurant serves (Categorical)\n",
    "\n",
    "**timings**: The working hours of a restaurant (Categorical)\n",
    "\n",
    "**average_cost_for_two**: The average amount expected for 2 people (Numerical)\n",
    "\n",
    "**price_range**: The categories for average cost (Categories - 1,2,3,4) (Categorical)\n",
    "\n",
    "**currency**: The currency in which a customer pays (Categorical)\n",
    "\n",
    "**highlights**: The facilities of the restaurant (Categorical)\n",
    "\n",
    "**aggregate_rating**: The overall rating a restaurant has got (Numerical) \n",
    "\n",
    "**rating_text**: Categorized ratings (Categorical)\n",
    "\n",
    "**votes**: Number of votes received by the restaurant from customers (Numerical)\n",
    "\n",
    "**photo_count**: The number of photos of a restaurant (Numerical)\n",
    "\n",
    "**opentable_support**: Restaurant reservation from Opentable (Categorical)\n",
    "\n",
    "**delivery**: The restaurant deliver an order or not (Categorical)\n",
    "\n",
    "**takeaway**: The restaurant allows  a 'takeaway' of an order or not (Categorical)"
   ]
  },
  {
   "cell_type": "markdown",
   "metadata": {
    "id": "63AtLzt4Rkr3"
   },
   "source": [
    "## Icon Legends\n",
    "<table>\n",
    "  <tr>\n",
    "    <th width=\"25%\"> <img src=\"infer.png\" style=\"width:25%;\"></th>\n",
    "    <th width=\"25%\"> <img src=\"alsoreadicon.png\" style=\"width:25%;\"></th>\n",
    "    <th width=\"25%\"> <img src=\"todo.png\" style=\"width:25%;\"></th>\n",
    "    <th width=\"25%\"> <img src=\"quicktip.png\" style=\"width:25%;\"></th>\n",
    "  </tr>\n",
    "  <tr>\n",
    "    <td><div align=\"center\" style=\"font-size:120%\">\n",
    "        <font color=\"#21618C\"><b>Inferences from Outcome</b></font></div>\n",
    "    </td>\n",
    "    <td><div align=\"center\" style=\"font-size:120%\">\n",
    "        <font color=\"#21618C\"><b>Additional Reads</b></font></div>\n",
    "    </td>\n",
    "    <td><div align=\"center\" style=\"font-size:120%\">\n",
    "        <font color=\"#21618C\"><b>Lets do it</b></font></div>\n",
    "    </td>\n",
    "    <td><div align=\"center\" style=\"font-size:120%\">\n",
    "        <font color=\"#21618C\"><b>Quick Tips</b></font></div>\n",
    "    </td>\n",
    "\n",
    "</tr>\n",
    "\n",
    "</table>\n"
   ]
  },
  {
   "cell_type": "markdown",
   "metadata": {
    "id": "Lp-TZBYORkr4"
   },
   "source": [
    "## Table of Contents\n",
    "\n",
    "1. **[Import Libraries](#import_lib)** \n",
    "2. **[Set Options](#set_options)** \n",
    "3. **[Read Data](#Read_Data)** \n",
    "4. **[Understand  and Prepare the Data](#Understand_Data)**\n",
    "5. **[Understand the variables](#Understanding_variables)**\n",
    "6. **[Check for Missing Values](#missing)**\n",
    "7. **[Study Correlation](#correlation)**\n",
    "8. **[Detect Outliers](#outliers)**\n",
    "9. **[Create a new variable 'region'](#region)**\n",
    "10. **[Some more analysis](#more)** \n"
   ]
  },
  {
   "cell_type": "markdown",
   "metadata": {
    "id": "werFbj0BRkr5"
   },
   "source": [
    "<a id='import_lib'></a>\n",
    "## 1. Import Libraries"
   ]
  },
  {
   "cell_type": "markdown",
   "metadata": {
    "id": "7hMBXiP_Rkr5"
   },
   "source": [
    "<table align=\"left\">\n",
    "    <tr>\n",
    "        <td width=\"8%\">\n",
    "            <img src=\"todo.png\">\n",
    "        </td>\n",
    "        <td>\n",
    "            <div align=\"left\", style=\"font-size:120%\">\n",
    "                <font color=\"#21618C\">\n",
    "                    <b>Let us import the required libraries</b>\n",
    "                </font>\n",
    "            </div>\n",
    "        </td>\n",
    "    </tr>\n",
    "</table>"
   ]
  },
  {
   "cell_type": "code",
   "execution_count": 835,
   "metadata": {
    "id": "8JFz5prbRkr6"
   },
   "outputs": [],
   "source": [
    "import numpy as np\n",
    "import pandas as pd\n",
    "import matplotlib.pyplot as plt\n",
    "import seaborn as sns\n",
    "import warnings\n",
    "warnings.filterwarnings ('ignore')"
   ]
  },
  {
   "cell_type": "markdown",
   "metadata": {
    "id": "X-dtp_nPRkr8"
   },
   "source": [
    "<a id='set_options'></a>\n",
    "## 2. Set Options"
   ]
  },
  {
   "cell_type": "markdown",
   "metadata": {
    "id": "ktRetTDBRkr8"
   },
   "source": [
    "<table align=\"left\">\n",
    "    <tr>\n",
    "        <td width=\"8%\">\n",
    "            <img src=\"todo.png\">\n",
    "        </td>\n",
    "        <td>\n",
    "            <div align=\"left\", style=\"font-size:120%\">\n",
    "                <font color=\"#21618C\">\n",
    "                    <b>Now we make necessary changes to :<br><br>\n",
    "1. Display complete data frames<br>\n",
    "2. To set the decimal place of a numeric output to 6 <br>\n",
    "3. Set the working directory              \n",
    "                    </b>\n",
    "                </font>\n",
    "            </div>\n",
    "        </td>\n",
    "    </tr>\n",
    "</table>"
   ]
  },
  {
   "cell_type": "code",
   "execution_count": 839,
   "metadata": {
    "id": "QztCe11ZRkr9"
   },
   "outputs": [],
   "source": [
    "pd.set_option('display.max_rows',100)\n",
    "pd.set_option('display.max_columns',100)\n",
    "pd.set_option('display.width',100)\n",
    "pd.set_option('display.max_colwidth',100)\n",
    "#set style\n",
    "sns.set(style = 'whitegrid')"
   ]
  },
  {
   "cell_type": "markdown",
   "metadata": {
    "id": "PkaiNsajRkr-"
   },
   "source": [
    "<a id='Read_Data'></a>\n",
    "## 3. Read Data"
   ]
  },
  {
   "cell_type": "code",
   "execution_count": 842,
   "metadata": {
    "colab": {
     "base_uri": "https://localhost:8080/",
     "height": 392
    },
    "executionInfo": {
     "elapsed": 2064,
     "status": "error",
     "timestamp": 1615197562392,
     "user": {
      "displayName": "Vishnu Murali",
      "photoUrl": "https://lh3.googleusercontent.com/a-/AOh14Gi9HFkIyK2pSuiQeQKuJ_g129BxLvMVLl9xboj8=s64",
      "userId": "16837812932775871984"
     },
     "user_tz": -330
    },
    "id": "cdwoIxuzRkr-",
    "outputId": "88297f97-8a32-411c-b9c6-3c7476b6c0ef"
   },
   "outputs": [],
   "source": [
    "data = pd.read_csv('ZomatoRestaurantsIndia.csv')"
   ]
  },
  {
   "cell_type": "markdown",
   "metadata": {
    "id": "LLy9IXERRkr_"
   },
   "source": [
    "<a id='Understand_Data'></a>\n",
    "## 4. Understand  and Prepare the Data"
   ]
  },
  {
   "cell_type": "markdown",
   "metadata": {
    "id": "VyMyDmkgRkr_"
   },
   "source": [
    "A well-prepared data proves beneficial for analysis as it limits errors and inaccuracies that can occur during analysis. The processed data is more accessible to users.<br> <br>\n",
    "                         Data understanding is the process of getting familiar with the data, to identify data type, to discover first insights into the data, or to detect interesting subsets to form hypotheses about hidden information. Whereas, data preparation is the process of cleaning and transforming raw data before analysis. It is an important step before processing and often involves reformatting data, making corrections to data. <br> <br>\n",
    "                        Data preparation is often a lengthy process, but it is essential as a prerequisite to put data in context to get insights and eliminate bias resulting from poor data quality."
   ]
  },
  {
   "cell_type": "markdown",
   "metadata": {
    "id": "VmssYktaRkr_"
   },
   "source": [
    "<table align=\"left\">\n",
    "    <tr>\n",
    "        <td width=\"8%\">\n",
    "            <img src=\"todo.png\">\n",
    "        </td>\n",
    "        <td>\n",
    "            <div align=\"left\", style=\"font-size:120%\">\n",
    "                <font color=\"#21618C\">\n",
    "                    <b> Here we will analyze and prepare data:<br>\n",
    "                        1. Check dimensions of the dataframe <br>\n",
    "                        2. View the head of the data<br>\n",
    "                        3. Note the redundant variables and drop them <br>\n",
    "                        4. Check the data types. Refer to data definition to ensure your data types are correct. If data types are not as per business context, change the data types as per requirement <br>\n",
    "                        5. Check for duplicates<br>\n",
    "                        Note: It is an art to explore data and one will need more and more practice to gain expertise in this area\n",
    "                    </b>\n",
    "                </font>\n",
    "            </div>\n",
    "        </td>\n",
    "    </tr>\n",
    "</table>"
   ]
  },
  {
   "cell_type": "markdown",
   "metadata": {
    "id": "NWLcTmd0RksA"
   },
   "source": [
    "**1. Check dimensions of the dataframe in terms of rows and columns**"
   ]
  },
  {
   "cell_type": "code",
   "execution_count": 847,
   "metadata": {
    "id": "xD4zxIcRRksA",
    "outputId": "a557ae42-5eda-417a-be86-eac47e3634a5",
    "scrolled": true
   },
   "outputs": [
    {
     "data": {
      "text/plain": [
       "(211944, 26)"
      ]
     },
     "execution_count": 847,
     "metadata": {},
     "output_type": "execute_result"
    }
   ],
   "source": [
    "data.shape"
   ]
  },
  {
   "cell_type": "markdown",
   "metadata": {
    "id": "OwLFJt_bRksC"
   },
   "source": [
    "**2. View the head of the data**"
   ]
  },
  {
   "cell_type": "code",
   "execution_count": 849,
   "metadata": {
    "id": "kaT5UDtHRksC",
    "outputId": "9ac8970e-527c-4a8b-92ed-f838ddb4fcd3",
    "scrolled": true
   },
   "outputs": [
    {
     "data": {
      "text/html": [
       "<div>\n",
       "<style scoped>\n",
       "    .dataframe tbody tr th:only-of-type {\n",
       "        vertical-align: middle;\n",
       "    }\n",
       "\n",
       "    .dataframe tbody tr th {\n",
       "        vertical-align: top;\n",
       "    }\n",
       "\n",
       "    .dataframe thead th {\n",
       "        text-align: right;\n",
       "    }\n",
       "</style>\n",
       "<table border=\"1\" class=\"dataframe\">\n",
       "  <thead>\n",
       "    <tr style=\"text-align: right;\">\n",
       "      <th></th>\n",
       "      <th>res_id</th>\n",
       "      <th>name</th>\n",
       "      <th>establishment</th>\n",
       "      <th>url</th>\n",
       "      <th>address</th>\n",
       "      <th>city</th>\n",
       "      <th>city_id</th>\n",
       "      <th>locality</th>\n",
       "      <th>latitude</th>\n",
       "      <th>longitude</th>\n",
       "      <th>zipcode</th>\n",
       "      <th>country_id</th>\n",
       "      <th>locality_verbose</th>\n",
       "      <th>cuisines</th>\n",
       "      <th>timings</th>\n",
       "      <th>average_cost_for_two</th>\n",
       "      <th>price_range</th>\n",
       "      <th>currency</th>\n",
       "      <th>highlights</th>\n",
       "      <th>aggregate_rating</th>\n",
       "      <th>rating_text</th>\n",
       "      <th>votes</th>\n",
       "      <th>photo_count</th>\n",
       "      <th>opentable_support</th>\n",
       "      <th>delivery</th>\n",
       "      <th>takeaway</th>\n",
       "    </tr>\n",
       "  </thead>\n",
       "  <tbody>\n",
       "    <tr>\n",
       "      <th>0</th>\n",
       "      <td>3400299</td>\n",
       "      <td>Bikanervala</td>\n",
       "      <td>Quick Bites</td>\n",
       "      <td>https://www.zomato.com/agra/bikanervala-khandari?utm_source=api_basic_user&amp;utm_medium=api&amp;utm_ca...</td>\n",
       "      <td>Kalyani Point, Near Tulsi Cinema, Bypass Road, Khandari, Agra</td>\n",
       "      <td>Agra</td>\n",
       "      <td>34</td>\n",
       "      <td>Khandari</td>\n",
       "      <td>27.211450</td>\n",
       "      <td>78.002381</td>\n",
       "      <td>NaN</td>\n",
       "      <td>1</td>\n",
       "      <td>Khandari, Agra</td>\n",
       "      <td>North Indian, South Indian, Mithai, Street Food, Desserts</td>\n",
       "      <td>8:30am – 10:30pm (Mon-Sun)</td>\n",
       "      <td>700</td>\n",
       "      <td>2</td>\n",
       "      <td>Rs.</td>\n",
       "      <td>Lunch, Takeaway Available, Credit Card, Dinner, Cash, Air Conditioned, Indoor Seating, Pure Veg</td>\n",
       "      <td>4.4</td>\n",
       "      <td>Very Good</td>\n",
       "      <td>814</td>\n",
       "      <td>154</td>\n",
       "      <td>0.0</td>\n",
       "      <td>-1</td>\n",
       "      <td>-1</td>\n",
       "    </tr>\n",
       "    <tr>\n",
       "      <th>1</th>\n",
       "      <td>3400005</td>\n",
       "      <td>Mama Chicken Mama Franky House</td>\n",
       "      <td>Quick Bites</td>\n",
       "      <td>https://www.zomato.com/agra/mama-chicken-mama-franky-house-agra-cantt?utm_source=api_basic_user&amp;...</td>\n",
       "      <td>Main Market, Sadar Bazaar, Agra Cantt, Agra</td>\n",
       "      <td>Agra</td>\n",
       "      <td>34</td>\n",
       "      <td>Agra Cantt</td>\n",
       "      <td>27.160569</td>\n",
       "      <td>78.011583</td>\n",
       "      <td>282001</td>\n",
       "      <td>1</td>\n",
       "      <td>Agra Cantt, Agra</td>\n",
       "      <td>North Indian, Mughlai, Rolls, Chinese, Fast Food, Street Food</td>\n",
       "      <td>12:30PM to 12Midnight (Mon, Wed, Thu, Fri, Sat, Sun), 1PM to 12Midnight (Tue)</td>\n",
       "      <td>600</td>\n",
       "      <td>2</td>\n",
       "      <td>Rs.</td>\n",
       "      <td>Delivery, No Alcohol Available, Dinner, Takeaway Available, Lunch, Cash, Indoor Seating</td>\n",
       "      <td>4.4</td>\n",
       "      <td>Very Good</td>\n",
       "      <td>1203</td>\n",
       "      <td>161</td>\n",
       "      <td>0.0</td>\n",
       "      <td>-1</td>\n",
       "      <td>-1</td>\n",
       "    </tr>\n",
       "    <tr>\n",
       "      <th>2</th>\n",
       "      <td>3401013</td>\n",
       "      <td>Bhagat Halwai</td>\n",
       "      <td>Quick Bites</td>\n",
       "      <td>https://www.zomato.com/agra/bhagat-halwai-2-shahganj?utm_source=api_basic_user&amp;utm_medium=api&amp;ut...</td>\n",
       "      <td>62/1, Near Easy Day, West Shivaji Nagar, Goalpura, Shahganj</td>\n",
       "      <td>Agra</td>\n",
       "      <td>34</td>\n",
       "      <td>Shahganj</td>\n",
       "      <td>27.182938</td>\n",
       "      <td>77.979684</td>\n",
       "      <td>282010</td>\n",
       "      <td>1</td>\n",
       "      <td>Shahganj, Agra</td>\n",
       "      <td>Fast Food, Mithai</td>\n",
       "      <td>9:30 AM to 11 PM</td>\n",
       "      <td>300</td>\n",
       "      <td>1</td>\n",
       "      <td>Rs.</td>\n",
       "      <td>No Alcohol Available, Dinner, Takeaway Available, Breakfast, Lunch, Cash, Delivery, Outdoor Seat...</td>\n",
       "      <td>4.2</td>\n",
       "      <td>Very Good</td>\n",
       "      <td>801</td>\n",
       "      <td>107</td>\n",
       "      <td>0.0</td>\n",
       "      <td>1</td>\n",
       "      <td>-1</td>\n",
       "    </tr>\n",
       "    <tr>\n",
       "      <th>3</th>\n",
       "      <td>3400290</td>\n",
       "      <td>Bhagat Halwai</td>\n",
       "      <td>Quick Bites</td>\n",
       "      <td>https://www.zomato.com/agra/bhagat-halwai-civil-lines?utm_source=api_basic_user&amp;utm_medium=api&amp;u...</td>\n",
       "      <td>Near Anjana Cinema, Nehru Nagar, Civil Lines, Agra</td>\n",
       "      <td>Agra</td>\n",
       "      <td>34</td>\n",
       "      <td>Civil Lines</td>\n",
       "      <td>27.205668</td>\n",
       "      <td>78.004799</td>\n",
       "      <td>282002</td>\n",
       "      <td>1</td>\n",
       "      <td>Civil Lines, Agra</td>\n",
       "      <td>Desserts, Bakery, Fast Food, South Indian</td>\n",
       "      <td>8am – 11pm (Mon-Sun)</td>\n",
       "      <td>300</td>\n",
       "      <td>1</td>\n",
       "      <td>Rs.</td>\n",
       "      <td>Takeaway Available, Credit Card, Lunch, Delivery, Breakfast, Dinner, Smoking Area, Dance Floor, ...</td>\n",
       "      <td>4.3</td>\n",
       "      <td>Very Good</td>\n",
       "      <td>693</td>\n",
       "      <td>157</td>\n",
       "      <td>0.0</td>\n",
       "      <td>1</td>\n",
       "      <td>-1</td>\n",
       "    </tr>\n",
       "    <tr>\n",
       "      <th>4</th>\n",
       "      <td>3401744</td>\n",
       "      <td>The Salt Cafe Kitchen &amp; Bar</td>\n",
       "      <td>Casual Dining</td>\n",
       "      <td>https://www.zomato.com/agra/the-salt-cafe-kitchen-bar-tajganj?utm_source=api_basic_user&amp;utm_medi...</td>\n",
       "      <td>1C,3rd Floor, Fatehabad Road, Tajganj, Agra</td>\n",
       "      <td>Agra</td>\n",
       "      <td>34</td>\n",
       "      <td>Tajganj</td>\n",
       "      <td>27.157709</td>\n",
       "      <td>78.052421</td>\n",
       "      <td>NaN</td>\n",
       "      <td>1</td>\n",
       "      <td>Tajganj, Agra</td>\n",
       "      <td>North Indian, Continental, Italian</td>\n",
       "      <td>11:30 AM to 11:30 PM</td>\n",
       "      <td>1000</td>\n",
       "      <td>3</td>\n",
       "      <td>Rs.</td>\n",
       "      <td>Lunch, Serves Alcohol, Cash, Credit Card, Dinner, Debit Card, Wine, Live Music, Rooftop, Digital...</td>\n",
       "      <td>4.9</td>\n",
       "      <td>Excellent</td>\n",
       "      <td>470</td>\n",
       "      <td>291</td>\n",
       "      <td>0.0</td>\n",
       "      <td>1</td>\n",
       "      <td>-1</td>\n",
       "    </tr>\n",
       "  </tbody>\n",
       "</table>\n",
       "</div>"
      ],
      "text/plain": [
       "    res_id                            name  establishment  \\\n",
       "0  3400299                     Bikanervala    Quick Bites   \n",
       "1  3400005  Mama Chicken Mama Franky House    Quick Bites   \n",
       "2  3401013                   Bhagat Halwai    Quick Bites   \n",
       "3  3400290                   Bhagat Halwai    Quick Bites   \n",
       "4  3401744     The Salt Cafe Kitchen & Bar  Casual Dining   \n",
       "\n",
       "                                                                                                   url  \\\n",
       "0  https://www.zomato.com/agra/bikanervala-khandari?utm_source=api_basic_user&utm_medium=api&utm_ca...   \n",
       "1  https://www.zomato.com/agra/mama-chicken-mama-franky-house-agra-cantt?utm_source=api_basic_user&...   \n",
       "2  https://www.zomato.com/agra/bhagat-halwai-2-shahganj?utm_source=api_basic_user&utm_medium=api&ut...   \n",
       "3  https://www.zomato.com/agra/bhagat-halwai-civil-lines?utm_source=api_basic_user&utm_medium=api&u...   \n",
       "4  https://www.zomato.com/agra/the-salt-cafe-kitchen-bar-tajganj?utm_source=api_basic_user&utm_medi...   \n",
       "\n",
       "                                                         address  city  city_id     locality  \\\n",
       "0  Kalyani Point, Near Tulsi Cinema, Bypass Road, Khandari, Agra  Agra       34     Khandari   \n",
       "1                    Main Market, Sadar Bazaar, Agra Cantt, Agra  Agra       34   Agra Cantt   \n",
       "2    62/1, Near Easy Day, West Shivaji Nagar, Goalpura, Shahganj  Agra       34     Shahganj   \n",
       "3             Near Anjana Cinema, Nehru Nagar, Civil Lines, Agra  Agra       34  Civil Lines   \n",
       "4                    1C,3rd Floor, Fatehabad Road, Tajganj, Agra  Agra       34      Tajganj   \n",
       "\n",
       "    latitude  longitude zipcode  country_id   locality_verbose  \\\n",
       "0  27.211450  78.002381     NaN           1     Khandari, Agra   \n",
       "1  27.160569  78.011583  282001           1   Agra Cantt, Agra   \n",
       "2  27.182938  77.979684  282010           1     Shahganj, Agra   \n",
       "3  27.205668  78.004799  282002           1  Civil Lines, Agra   \n",
       "4  27.157709  78.052421     NaN           1      Tajganj, Agra   \n",
       "\n",
       "                                                        cuisines  \\\n",
       "0      North Indian, South Indian, Mithai, Street Food, Desserts   \n",
       "1  North Indian, Mughlai, Rolls, Chinese, Fast Food, Street Food   \n",
       "2                                              Fast Food, Mithai   \n",
       "3                      Desserts, Bakery, Fast Food, South Indian   \n",
       "4                             North Indian, Continental, Italian   \n",
       "\n",
       "                                                                         timings  \\\n",
       "0                                                     8:30am – 10:30pm (Mon-Sun)   \n",
       "1  12:30PM to 12Midnight (Mon, Wed, Thu, Fri, Sat, Sun), 1PM to 12Midnight (Tue)   \n",
       "2                                                               9:30 AM to 11 PM   \n",
       "3                                                           8am – 11pm (Mon-Sun)   \n",
       "4                                                           11:30 AM to 11:30 PM   \n",
       "\n",
       "   average_cost_for_two  price_range currency  \\\n",
       "0                   700            2      Rs.   \n",
       "1                   600            2      Rs.   \n",
       "2                   300            1      Rs.   \n",
       "3                   300            1      Rs.   \n",
       "4                  1000            3      Rs.   \n",
       "\n",
       "                                                                                            highlights  \\\n",
       "0      Lunch, Takeaway Available, Credit Card, Dinner, Cash, Air Conditioned, Indoor Seating, Pure Veg   \n",
       "1              Delivery, No Alcohol Available, Dinner, Takeaway Available, Lunch, Cash, Indoor Seating   \n",
       "2  No Alcohol Available, Dinner, Takeaway Available, Breakfast, Lunch, Cash, Delivery, Outdoor Seat...   \n",
       "3  Takeaway Available, Credit Card, Lunch, Delivery, Breakfast, Dinner, Smoking Area, Dance Floor, ...   \n",
       "4  Lunch, Serves Alcohol, Cash, Credit Card, Dinner, Debit Card, Wine, Live Music, Rooftop, Digital...   \n",
       "\n",
       "   aggregate_rating rating_text  votes  photo_count  opentable_support  delivery  takeaway  \n",
       "0               4.4   Very Good    814          154                0.0        -1        -1  \n",
       "1               4.4   Very Good   1203          161                0.0        -1        -1  \n",
       "2               4.2   Very Good    801          107                0.0         1        -1  \n",
       "3               4.3   Very Good    693          157                0.0         1        -1  \n",
       "4               4.9   Excellent    470          291                0.0         1        -1  "
      ]
     },
     "execution_count": 849,
     "metadata": {},
     "output_type": "execute_result"
    }
   ],
   "source": [
    "data.head()"
   ]
  },
  {
   "cell_type": "markdown",
   "metadata": {
    "id": "gIKMiqtNRksC"
   },
   "source": [
    "**3. Note the redundant variables and drop them**"
   ]
  },
  {
   "cell_type": "code",
   "execution_count": 851,
   "metadata": {},
   "outputs": [],
   "source": [
    "# 1. Constant_columns: Same value for all columns.\n",
    "def find_constant_col(df):\n",
    "    constant_columns = []\n",
    "    for col in df.columns:\n",
    "        if df[col].nunique() == 1:\n",
    "            constant_columns.append(col)\n",
    "    return constant_columns"
   ]
  },
  {
   "cell_type": "code",
   "execution_count": 852,
   "metadata": {},
   "outputs": [
    {
     "data": {
      "text/plain": [
       "['country_id', 'currency', 'opentable_support', 'takeaway']"
      ]
     },
     "execution_count": 852,
     "metadata": {},
     "output_type": "execute_result"
    }
   ],
   "source": [
    "find_constant_col(data)"
   ]
  },
  {
   "cell_type": "code",
   "execution_count": 853,
   "metadata": {},
   "outputs": [],
   "source": [
    "data_cleaned = data.drop(columns=find_constant_col(data))"
   ]
  },
  {
   "cell_type": "code",
   "execution_count": 854,
   "metadata": {},
   "outputs": [
    {
     "data": {
      "text/plain": [
       "(211944, 22)"
      ]
     },
     "execution_count": 854,
     "metadata": {},
     "output_type": "execute_result"
    }
   ],
   "source": [
    "data_cleaned.shape"
   ]
  },
  {
   "cell_type": "code",
   "execution_count": 855,
   "metadata": {},
   "outputs": [
    {
     "data": {
      "text/plain": [
       "Index(['res_id', 'name', 'establishment', 'url', 'address', 'city', 'city_id', 'locality',\n",
       "       'latitude', 'longitude', 'zipcode', 'locality_verbose', 'cuisines', 'timings',\n",
       "       'average_cost_for_two', 'price_range', 'highlights', 'aggregate_rating', 'rating_text',\n",
       "       'votes', 'photo_count', 'delivery'],\n",
       "      dtype='object')"
      ]
     },
     "execution_count": 855,
     "metadata": {},
     "output_type": "execute_result"
    }
   ],
   "source": [
    "#2. Check for duplicate columns\n",
    "\n",
    "data_cleaned.columns"
   ]
  },
  {
   "cell_type": "code",
   "execution_count": null,
   "metadata": {},
   "outputs": [],
   "source": []
  },
  {
   "cell_type": "code",
   "execution_count": 857,
   "metadata": {},
   "outputs": [],
   "source": [
    "#3. Check for highly correlated columns\n",
    "\n",
    "corr = data_cleaned.corr(numeric_only=True)"
   ]
  },
  {
   "cell_type": "code",
   "execution_count": 858,
   "metadata": {},
   "outputs": [
    {
     "data": {
      "text/html": [
       "<div>\n",
       "<style scoped>\n",
       "    .dataframe tbody tr th:only-of-type {\n",
       "        vertical-align: middle;\n",
       "    }\n",
       "\n",
       "    .dataframe tbody tr th {\n",
       "        vertical-align: top;\n",
       "    }\n",
       "\n",
       "    .dataframe thead th {\n",
       "        text-align: right;\n",
       "    }\n",
       "</style>\n",
       "<table border=\"1\" class=\"dataframe\">\n",
       "  <thead>\n",
       "    <tr style=\"text-align: right;\">\n",
       "      <th></th>\n",
       "      <th>res_id</th>\n",
       "      <th>city_id</th>\n",
       "      <th>latitude</th>\n",
       "      <th>longitude</th>\n",
       "      <th>average_cost_for_two</th>\n",
       "      <th>price_range</th>\n",
       "      <th>aggregate_rating</th>\n",
       "      <th>votes</th>\n",
       "      <th>photo_count</th>\n",
       "      <th>delivery</th>\n",
       "    </tr>\n",
       "  </thead>\n",
       "  <tbody>\n",
       "    <tr>\n",
       "      <th>res_id</th>\n",
       "      <td>1.000000</td>\n",
       "      <td>0.571824</td>\n",
       "      <td>0.019330</td>\n",
       "      <td>-0.041803</td>\n",
       "      <td>-0.208676</td>\n",
       "      <td>-0.207115</td>\n",
       "      <td>-0.244654</td>\n",
       "      <td>-0.235851</td>\n",
       "      <td>-0.106507</td>\n",
       "      <td>0.008152</td>\n",
       "    </tr>\n",
       "    <tr>\n",
       "      <th>city_id</th>\n",
       "      <td>0.571824</td>\n",
       "      <td>1.000000</td>\n",
       "      <td>0.031397</td>\n",
       "      <td>-0.038496</td>\n",
       "      <td>-0.273372</td>\n",
       "      <td>-0.281038</td>\n",
       "      <td>-0.263028</td>\n",
       "      <td>-0.274275</td>\n",
       "      <td>-0.236609</td>\n",
       "      <td>0.011540</td>\n",
       "    </tr>\n",
       "    <tr>\n",
       "      <th>latitude</th>\n",
       "      <td>0.019330</td>\n",
       "      <td>0.031397</td>\n",
       "      <td>1.000000</td>\n",
       "      <td>0.047109</td>\n",
       "      <td>-0.008643</td>\n",
       "      <td>-0.004729</td>\n",
       "      <td>-0.002171</td>\n",
       "      <td>-0.020725</td>\n",
       "      <td>-0.013376</td>\n",
       "      <td>0.011652</td>\n",
       "    </tr>\n",
       "    <tr>\n",
       "      <th>longitude</th>\n",
       "      <td>-0.041803</td>\n",
       "      <td>-0.038496</td>\n",
       "      <td>0.047109</td>\n",
       "      <td>1.000000</td>\n",
       "      <td>-0.019623</td>\n",
       "      <td>-0.007658</td>\n",
       "      <td>0.069011</td>\n",
       "      <td>-0.004032</td>\n",
       "      <td>-0.021650</td>\n",
       "      <td>0.049892</td>\n",
       "    </tr>\n",
       "    <tr>\n",
       "      <th>average_cost_for_two</th>\n",
       "      <td>-0.208676</td>\n",
       "      <td>-0.273372</td>\n",
       "      <td>-0.008643</td>\n",
       "      <td>-0.019623</td>\n",
       "      <td>1.000000</td>\n",
       "      <td>0.785934</td>\n",
       "      <td>0.232347</td>\n",
       "      <td>0.269049</td>\n",
       "      <td>0.341905</td>\n",
       "      <td>-0.116311</td>\n",
       "    </tr>\n",
       "    <tr>\n",
       "      <th>price_range</th>\n",
       "      <td>-0.207115</td>\n",
       "      <td>-0.281038</td>\n",
       "      <td>-0.004729</td>\n",
       "      <td>-0.007658</td>\n",
       "      <td>0.785934</td>\n",
       "      <td>1.000000</td>\n",
       "      <td>0.252301</td>\n",
       "      <td>0.245050</td>\n",
       "      <td>0.301421</td>\n",
       "      <td>-0.111431</td>\n",
       "    </tr>\n",
       "    <tr>\n",
       "      <th>aggregate_rating</th>\n",
       "      <td>-0.244654</td>\n",
       "      <td>-0.263028</td>\n",
       "      <td>-0.002171</td>\n",
       "      <td>0.069011</td>\n",
       "      <td>0.232347</td>\n",
       "      <td>0.252301</td>\n",
       "      <td>1.000000</td>\n",
       "      <td>0.271953</td>\n",
       "      <td>0.218522</td>\n",
       "      <td>0.205032</td>\n",
       "    </tr>\n",
       "    <tr>\n",
       "      <th>votes</th>\n",
       "      <td>-0.235851</td>\n",
       "      <td>-0.274275</td>\n",
       "      <td>-0.020725</td>\n",
       "      <td>-0.004032</td>\n",
       "      <td>0.269049</td>\n",
       "      <td>0.245050</td>\n",
       "      <td>0.271953</td>\n",
       "      <td>1.000000</td>\n",
       "      <td>0.654966</td>\n",
       "      <td>0.028518</td>\n",
       "    </tr>\n",
       "    <tr>\n",
       "      <th>photo_count</th>\n",
       "      <td>-0.106507</td>\n",
       "      <td>-0.236609</td>\n",
       "      <td>-0.013376</td>\n",
       "      <td>-0.021650</td>\n",
       "      <td>0.341905</td>\n",
       "      <td>0.301421</td>\n",
       "      <td>0.218522</td>\n",
       "      <td>0.654966</td>\n",
       "      <td>1.000000</td>\n",
       "      <td>-0.018210</td>\n",
       "    </tr>\n",
       "    <tr>\n",
       "      <th>delivery</th>\n",
       "      <td>0.008152</td>\n",
       "      <td>0.011540</td>\n",
       "      <td>0.011652</td>\n",
       "      <td>0.049892</td>\n",
       "      <td>-0.116311</td>\n",
       "      <td>-0.111431</td>\n",
       "      <td>0.205032</td>\n",
       "      <td>0.028518</td>\n",
       "      <td>-0.018210</td>\n",
       "      <td>1.000000</td>\n",
       "    </tr>\n",
       "  </tbody>\n",
       "</table>\n",
       "</div>"
      ],
      "text/plain": [
       "                        res_id   city_id  latitude  longitude  average_cost_for_two  price_range  \\\n",
       "res_id                1.000000  0.571824  0.019330  -0.041803             -0.208676    -0.207115   \n",
       "city_id               0.571824  1.000000  0.031397  -0.038496             -0.273372    -0.281038   \n",
       "latitude              0.019330  0.031397  1.000000   0.047109             -0.008643    -0.004729   \n",
       "longitude            -0.041803 -0.038496  0.047109   1.000000             -0.019623    -0.007658   \n",
       "average_cost_for_two -0.208676 -0.273372 -0.008643  -0.019623              1.000000     0.785934   \n",
       "price_range          -0.207115 -0.281038 -0.004729  -0.007658              0.785934     1.000000   \n",
       "aggregate_rating     -0.244654 -0.263028 -0.002171   0.069011              0.232347     0.252301   \n",
       "votes                -0.235851 -0.274275 -0.020725  -0.004032              0.269049     0.245050   \n",
       "photo_count          -0.106507 -0.236609 -0.013376  -0.021650              0.341905     0.301421   \n",
       "delivery              0.008152  0.011540  0.011652   0.049892             -0.116311    -0.111431   \n",
       "\n",
       "                      aggregate_rating     votes  photo_count  delivery  \n",
       "res_id                       -0.244654 -0.235851    -0.106507  0.008152  \n",
       "city_id                      -0.263028 -0.274275    -0.236609  0.011540  \n",
       "latitude                     -0.002171 -0.020725    -0.013376  0.011652  \n",
       "longitude                     0.069011 -0.004032    -0.021650  0.049892  \n",
       "average_cost_for_two          0.232347  0.269049     0.341905 -0.116311  \n",
       "price_range                   0.252301  0.245050     0.301421 -0.111431  \n",
       "aggregate_rating              1.000000  0.271953     0.218522  0.205032  \n",
       "votes                         0.271953  1.000000     0.654966  0.028518  \n",
       "photo_count                   0.218522  0.654966     1.000000 -0.018210  \n",
       "delivery                      0.205032  0.028518    -0.018210  1.000000  "
      ]
     },
     "execution_count": 858,
     "metadata": {},
     "output_type": "execute_result"
    }
   ],
   "source": [
    "corr"
   ]
  },
  {
   "cell_type": "code",
   "execution_count": 859,
   "metadata": {},
   "outputs": [
    {
     "data": {
      "image/png": "[encoded data removed]",
      "text/plain": [
       "<Figure size 1000x800 with 2 Axes>"
      ]
     },
     "metadata": {},
     "output_type": "display_data"
    }
   ],
   "source": [
    "plt.figure(figsize=(10,8))\n",
    "sns.heatmap(corr,annot=True,cmap='coolwarm')\n",
    "plt.title('Correlation Matrix')\n",
    "plt.show()"
   ]
  },
  {
   "cell_type": "markdown",
   "metadata": {
    "id": "A0qfshkvRksE"
   },
   "source": [
    "**4. Check the data types. Refer to data definition to ensure your data types are correct. If data types are not as per business context, change the data types as per requirement**\n"
   ]
  },
  {
   "cell_type": "code",
   "execution_count": 861,
   "metadata": {
    "id": "tPbXp4StRksE",
    "outputId": "47efa6f4-41e2-4204-ce03-799bf3960155"
   },
   "outputs": [
    {
     "name": "stdout",
     "output_type": "stream",
     "text": [
      "<class 'pandas.core.frame.DataFrame'>\n",
      "RangeIndex: 211944 entries, 0 to 211943\n",
      "Data columns (total 22 columns):\n",
      " #   Column                Non-Null Count   Dtype  \n",
      "---  ------                --------------   -----  \n",
      " 0   res_id                211944 non-null  int64  \n",
      " 1   name                  211944 non-null  object \n",
      " 2   establishment         207117 non-null  object \n",
      " 3   url                   211944 non-null  object \n",
      " 4   address               211810 non-null  object \n",
      " 5   city                  211944 non-null  object \n",
      " 6   city_id               211944 non-null  int64  \n",
      " 7   locality              211944 non-null  object \n",
      " 8   latitude              211944 non-null  float64\n",
      " 9   longitude             211944 non-null  float64\n",
      " 10  zipcode               48757 non-null   object \n",
      " 11  locality_verbose      211944 non-null  object \n",
      " 12  cuisines              210553 non-null  object \n",
      " 13  timings               208070 non-null  object \n",
      " 14  average_cost_for_two  211944 non-null  int64  \n",
      " 15  price_range           211944 non-null  int64  \n",
      " 16  highlights            209875 non-null  object \n",
      " 17  aggregate_rating      211944 non-null  float64\n",
      " 18  rating_text           211944 non-null  object \n",
      " 19  votes                 211944 non-null  int64  \n",
      " 20  photo_count           211944 non-null  int64  \n",
      " 21  delivery              211944 non-null  int64  \n",
      "dtypes: float64(3), int64(7), object(12)\n",
      "memory usage: 35.6+ MB\n"
     ]
    }
   ],
   "source": [
    "data_cleaned.info()"
   ]
  },
  {
   "cell_type": "code",
   "execution_count": 862,
   "metadata": {},
   "outputs": [],
   "source": [
    "# Correct data types\n",
    "data_cleaned['city_id'] = data_cleaned['city_id'].astype('Int64')\n",
    "data_cleaned['zipcode'] = data_cleaned['zipcode'].astype(str)     "
   ]
  },
  {
   "cell_type": "code",
   "execution_count": 863,
   "metadata": {},
   "outputs": [
    {
     "name": "stdout",
     "output_type": "stream",
     "text": [
      "<class 'pandas.core.frame.DataFrame'>\n",
      "RangeIndex: 211944 entries, 0 to 211943\n",
      "Data columns (total 22 columns):\n",
      " #   Column                Non-Null Count   Dtype  \n",
      "---  ------                --------------   -----  \n",
      " 0   res_id                211944 non-null  int64  \n",
      " 1   name                  211944 non-null  object \n",
      " 2   establishment         207117 non-null  object \n",
      " 3   url                   211944 non-null  object \n",
      " 4   address               211810 non-null  object \n",
      " 5   city                  211944 non-null  object \n",
      " 6   city_id               211944 non-null  Int64  \n",
      " 7   locality              211944 non-null  object \n",
      " 8   latitude              211944 non-null  float64\n",
      " 9   longitude             211944 non-null  float64\n",
      " 10  zipcode               211944 non-null  object \n",
      " 11  locality_verbose      211944 non-null  object \n",
      " 12  cuisines              210553 non-null  object \n",
      " 13  timings               208070 non-null  object \n",
      " 14  average_cost_for_two  211944 non-null  int64  \n",
      " 15  price_range           211944 non-null  int64  \n",
      " 16  highlights            209875 non-null  object \n",
      " 17  aggregate_rating      211944 non-null  float64\n",
      " 18  rating_text           211944 non-null  object \n",
      " 19  votes                 211944 non-null  int64  \n",
      " 20  photo_count           211944 non-null  int64  \n",
      " 21  delivery              211944 non-null  int64  \n",
      "dtypes: Int64(1), float64(3), int64(6), object(12)\n",
      "memory usage: 35.8+ MB\n"
     ]
    }
   ],
   "source": [
    "data_cleaned.info()"
   ]
  },
  {
   "cell_type": "code",
   "execution_count": null,
   "metadata": {},
   "outputs": [],
   "source": []
  },
  {
   "cell_type": "markdown",
   "metadata": {
    "id": "G4xIIbrBRksG"
   },
   "source": [
    "**5. Check for Duplicates**"
   ]
  },
  {
   "cell_type": "code",
   "execution_count": 866,
   "metadata": {
    "id": "OffFSCfwRksG",
    "outputId": "a4970c87-ec1b-48c0-deac-f612d49fc662"
   },
   "outputs": [
    {
     "data": {
      "text/plain": [
       "151533"
      ]
     },
     "execution_count": 866,
     "metadata": {},
     "output_type": "execute_result"
    }
   ],
   "source": [
    "data_cleaned.duplicated().sum()"
   ]
  },
  {
   "cell_type": "code",
   "execution_count": 867,
   "metadata": {},
   "outputs": [],
   "source": [
    "# Drop duplicates from the res_id column\n",
    "data_cleaned.drop_duplicates(inplace = True)"
   ]
  },
  {
   "cell_type": "code",
   "execution_count": 868,
   "metadata": {},
   "outputs": [
    {
     "data": {
      "text/plain": [
       "(60411, 22)"
      ]
     },
     "execution_count": 868,
     "metadata": {},
     "output_type": "execute_result"
    }
   ],
   "source": [
    "data_cleaned.shape"
   ]
  },
  {
   "cell_type": "markdown",
   "metadata": {
    "id": "TBbvg12IRksI"
   },
   "source": [
    "<a id = 'Understanding_variables'> </a>\n",
    "## 5. Understand the variables"
   ]
  },
  {
   "cell_type": "markdown",
   "metadata": {
    "id": "by35230NRksI"
   },
   "source": [
    "**1. Variable 'name'**"
   ]
  },
  {
   "cell_type": "code",
   "execution_count": 873,
   "metadata": {
    "id": "FnruiCsURksI",
    "outputId": "dea16568-51f1-4d64-95de-6c647edd19a1"
   },
   "outputs": [
    {
     "data": {
      "text/plain": [
       "(name\n",
       " Dominos Pizza               413\n",
       " Cafe Coffee Day             323\n",
       " KFC                         261\n",
       " Subway                      212\n",
       " Keventers                   209\n",
       " Baskin Robbins Ice Cream    208\n",
       " Mc Donalds                  164\n",
       " Pizza Hut                   155\n",
       " Burger King                 144\n",
       " Barbeque Nation             119\n",
       " Name: count, dtype: int64,\n",
       " name\n",
       " Good Morning Confectioners                    1\n",
       " Sethi Bakers                                  1\n",
       " Dajoos Momo                                   1\n",
       " Swastik Confectioner And Ice Cream Parlour    1\n",
       " Bajrangi Food Point                           1\n",
       " Onion Fresh                                   1\n",
       " Treat Fast Food                               1\n",
       " Captains Bakery & Cafe                        1\n",
       " NFC                                           1\n",
       " Geeta lodge                                   1\n",
       " Name: count, dtype: int64)"
      ]
     },
     "execution_count": 873,
     "metadata": {},
     "output_type": "execute_result"
    }
   ],
   "source": [
    "# Top 10 restaurent and bottom 10 restaurent by total outlets\n",
    "data_cleaned['name'].value_counts().head(10),data_cleaned['name'].value_counts().tail(10)"
   ]
  },
  {
   "cell_type": "code",
   "execution_count": 874,
   "metadata": {},
   "outputs": [
    {
     "data": {
      "text/plain": [
       "array(['Bikanervala', 'Mama Chicken Mama Franky House', 'Bhagat Halwai',\n",
       "       ..., 'Red China', 'Wah Ustad', 'Geeta lodge'], dtype=object)"
      ]
     },
     "execution_count": 874,
     "metadata": {},
     "output_type": "execute_result"
    }
   ],
   "source": [
    "# Unique restarent.\n",
    "data_cleaned['name'].unique()"
   ]
  },
  {
   "cell_type": "code",
   "execution_count": 875,
   "metadata": {},
   "outputs": [
    {
     "data": {
      "text/plain": [
       "40965"
      ]
     },
     "execution_count": 875,
     "metadata": {},
     "output_type": "execute_result"
    }
   ],
   "source": [
    "# Number of unique restarent.\n",
    "data_cleaned['name'].nunique()"
   ]
  },
  {
   "cell_type": "markdown",
   "metadata": {
    "id": "JihZ3_92RksK"
   },
   "source": [
    "**2. Variable 'establishment'**"
   ]
  },
  {
   "cell_type": "code",
   "execution_count": 877,
   "metadata": {},
   "outputs": [
    {
     "data": {
      "text/plain": [
       "establishment\n",
       "Quick Bites        15473\n",
       "Casual Dining      13761\n",
       "Café                4644\n",
       "Dessert Parlour     3915\n",
       "Bakery              3888\n",
       "Sweet Shop          2712\n",
       "Beverage Shop       2566\n",
       "Fine Dining         1656\n",
       "Food Court          1569\n",
       "Bar                 1550\n",
       "Dhaba               1334\n",
       "Kiosk               1196\n",
       "Lounge               898\n",
       "Food Truck           874\n",
       "Bhojanalya           654\n",
       "Mess                 397\n",
       "Pub                  393\n",
       "Paan Shop            326\n",
       "Confectionery        227\n",
       "Butcher Shop         154\n",
       "Microbrewery         135\n",
       "Club                 113\n",
       "Shack                 21\n",
       "Cocktail Bar          17\n",
       "Irani Cafe            14\n",
       "Pop up                 4\n",
       "Name: count, dtype: int64"
      ]
     },
     "execution_count": 877,
     "metadata": {},
     "output_type": "execute_result"
    }
   ],
   "source": [
    "# Value count of variable establishment\n",
    "data_cleaned['establishment'].value_counts()"
   ]
  },
  {
   "cell_type": "code",
   "execution_count": 878,
   "metadata": {},
   "outputs": [
    {
     "data": {
      "text/plain": [
       "array(['Quick Bites', 'Casual Dining', 'Bakery', 'Café', 'Dhaba',\n",
       "       'Bhojanalya', 'Bar', 'Sweet Shop', 'Fine Dining', 'Food Truck',\n",
       "       'Dessert Parlour', 'Lounge', 'Pub', 'Beverage Shop', 'Kiosk',\n",
       "       'Paan Shop', 'Confectionery', nan, 'Shack', 'Club', 'Food Court',\n",
       "       'Mess', 'Butcher Shop', 'Microbrewery', 'Cocktail Bar', 'Pop up',\n",
       "       'Irani Cafe'], dtype=object)"
      ]
     },
     "execution_count": 878,
     "metadata": {},
     "output_type": "execute_result"
    }
   ],
   "source": [
    "# Unique establishment.\n",
    "data_cleaned['establishment'].unique()"
   ]
  },
  {
   "cell_type": "code",
   "execution_count": 879,
   "metadata": {},
   "outputs": [
    {
     "data": {
      "text/plain": [
       "26"
      ]
     },
     "execution_count": 879,
     "metadata": {},
     "output_type": "execute_result"
    }
   ],
   "source": [
    "# Number of unique establishment.\n",
    "data_cleaned['establishment'].nunique()"
   ]
  },
  {
   "cell_type": "markdown",
   "metadata": {
    "id": "QOXnrF86RksQ"
   },
   "source": [
    "**3. Variable 'city'**"
   ]
  },
  {
   "cell_type": "code",
   "execution_count": 881,
   "metadata": {
    "id": "dDzXQ116RksR",
    "outputId": "1b855895-1322-4afa-9859-24ca1fc466f7"
   },
   "outputs": [
    {
     "data": {
      "text/plain": [
       "city\n",
       "Chennai          2612\n",
       "Mumbai           2538\n",
       "Bangalore        2365\n",
       "Pune             1911\n",
       "New Delhi        1847\n",
       "Jaipur           1456\n",
       "Kolkata          1413\n",
       "Ahmedabad        1329\n",
       "Lucknow          1290\n",
       "Goa              1169\n",
       "Nagpur           1102\n",
       "Indore           1093\n",
       "Kochi            1027\n",
       "Coimbatore       1019\n",
       "Vadodara         1002\n",
       "Surat            1001\n",
       "Ludhiana          992\n",
       "Bhopal            971\n",
       "Agra              893\n",
       "Hyderabad         866\n",
       "Kanpur            836\n",
       "Raipur            833\n",
       "Dehradun          805\n",
       "Bhubaneshwar      792\n",
       "Guwahati          784\n",
       "Udaipur           775\n",
       "Nashik            758\n",
       "Jodhpur           731\n",
       "Vizag             721\n",
       "Aurangabad        693\n",
       "Amritsar          692\n",
       "Ranchi            689\n",
       "Patna             683\n",
       "Chandigarh        681\n",
       "Gurgaon           662\n",
       "Jalandhar         643\n",
       "Kota              622\n",
       "Trivandrum        617\n",
       "Jamshedpur        615\n",
       "Gwalior           606\n",
       "Jabalpur          598\n",
       "Varanasi          598\n",
       "Rajkot            587\n",
       "Mysore            585\n",
       "Mangalore         584\n",
       "Puducherry        583\n",
       "Meerut            580\n",
       "Madurai           578\n",
       "Kolhapur          567\n",
       "Allahabad         567\n",
       "Jammu             549\n",
       "Gorakhpur         526\n",
       "Vijayawada        524\n",
       "Patiala           505\n",
       "Trichy            505\n",
       "Siliguri          483\n",
       "Ajmer             470\n",
       "Amravati          440\n",
       "Jamnagar          425\n",
       "Salem             418\n",
       "Thrissur          405\n",
       "Haridwar          401\n",
       "Jhansi            371\n",
       "Vellore           341\n",
       "Mohali            333\n",
       "Guntur            319\n",
       "Thane             300\n",
       "Cuttack           293\n",
       "Tirupati          277\n",
       "Ooty              276\n",
       "Noida             273\n",
       "Alappuzha         267\n",
       "Dharamshala       259\n",
       "Rishikesh         258\n",
       "Navi Mumbai       256\n",
       "Nainital          246\n",
       "Shimla            241\n",
       "Junagadh          231\n",
       "Mussoorie         190\n",
       "Manali            185\n",
       "Pushkar           183\n",
       "Palakkad          178\n",
       "Panchkula         174\n",
       "Manipal           162\n",
       "Zirakpur          154\n",
       "Gangtok           132\n",
       "Srinagar          125\n",
       "Darjeeling        116\n",
       "Kharagpur         116\n",
       "Secunderabad       97\n",
       "Gandhinagar        96\n",
       "Ghaziabad          95\n",
       "Faridabad          81\n",
       "Udupi              61\n",
       "Howrah             50\n",
       "Neemrana           26\n",
       "Greater Noida      22\n",
       "Nayagaon           15\n",
       "Name: count, dtype: int64"
      ]
     },
     "execution_count": 881,
     "metadata": {},
     "output_type": "execute_result"
    }
   ],
   "source": [
    "# Value count of variable city.\n",
    "data_cleaned['city'].value_counts()"
   ]
  },
  {
   "cell_type": "code",
   "execution_count": 882,
   "metadata": {},
   "outputs": [
    {
     "data": {
      "text/plain": [
       "array(['Agra', 'Ahmedabad', 'Gandhinagar', 'Ajmer', 'Alappuzha',\n",
       "       'Allahabad', 'Amravati', 'Amritsar', 'Aurangabad', 'Bangalore',\n",
       "       'Bhopal', 'Bhubaneshwar', 'Chandigarh', 'Mohali', 'Panchkula',\n",
       "       'Zirakpur', 'Nayagaon', 'Chennai', 'Coimbatore', 'Cuttack',\n",
       "       'Darjeeling', 'Dehradun', 'New Delhi', 'Gurgaon', 'Noida',\n",
       "       'Faridabad', 'Ghaziabad', 'Greater Noida', 'Dharamshala',\n",
       "       'Gangtok', 'Goa', 'Gorakhpur', 'Guntur', 'Guwahati', 'Gwalior',\n",
       "       'Haridwar', 'Hyderabad', 'Secunderabad', 'Indore', 'Jabalpur',\n",
       "       'Jaipur', 'Jalandhar', 'Jammu', 'Jamnagar', 'Jamshedpur', 'Jhansi',\n",
       "       'Jodhpur', 'Junagadh', 'Kanpur', 'Kharagpur', 'Kochi', 'Kolhapur',\n",
       "       'Kolkata', 'Howrah', 'Kota', 'Lucknow', 'Ludhiana', 'Madurai',\n",
       "       'Manali', 'Mangalore', 'Manipal', 'Udupi', 'Meerut', 'Mumbai',\n",
       "       'Thane', 'Navi Mumbai', 'Mussoorie', 'Mysore', 'Nagpur',\n",
       "       'Nainital', 'Nashik', 'Neemrana', 'Ooty', 'Palakkad', 'Patiala',\n",
       "       'Patna', 'Puducherry', 'Pune', 'Pushkar', 'Raipur', 'Rajkot',\n",
       "       'Ranchi', 'Rishikesh', 'Salem', 'Shimla', 'Siliguri', 'Srinagar',\n",
       "       'Surat', 'Thrissur', 'Tirupati', 'Trichy', 'Trivandrum', 'Udaipur',\n",
       "       'Varanasi', 'Vellore', 'Vijayawada', 'Vizag', 'Vadodara'],\n",
       "      dtype=object)"
      ]
     },
     "execution_count": 882,
     "metadata": {},
     "output_type": "execute_result"
    }
   ],
   "source": [
    "# Unique city.\n",
    "data_cleaned['city'].unique()"
   ]
  },
  {
   "cell_type": "code",
   "execution_count": 885,
   "metadata": {},
   "outputs": [
    {
     "data": {
      "text/plain": [
       "98"
      ]
     },
     "execution_count": 885,
     "metadata": {},
     "output_type": "execute_result"
    }
   ],
   "source": [
    "#  Number of unique city.\n",
    "data_cleaned['city'].nunique()"
   ]
  },
  {
   "cell_type": "markdown",
   "metadata": {
    "id": "mcnn9P72RksS"
   },
   "source": [
    "**4. Variable 'locality'**"
   ]
  },
  {
   "cell_type": "code",
   "execution_count": 888,
   "metadata": {
    "id": "ajLc2XlBRksS",
    "outputId": "d4d45a03-20fc-4785-d348-2145c629424a"
   },
   "outputs": [
    {
     "data": {
      "text/plain": [
       "locality\n",
       "Civil Lines                                 804\n",
       "Model Town                                  485\n",
       "Shastri Nagar                               417\n",
       "Vijay Nagar                                 404\n",
       "Gomti Nagar                                 315\n",
       "                                           ... \n",
       "Vivira Mall, Navallur                         1\n",
       "Country Inn & Suites by Carlson, Gurgaon      1\n",
       "Okhla Phase 3                                 1\n",
       "Bow Bazar                                     1\n",
       "Sangriya                                      1\n",
       "Name: count, Length: 3731, dtype: int64"
      ]
     },
     "execution_count": 888,
     "metadata": {},
     "output_type": "execute_result"
    }
   ],
   "source": [
    "# Value count of variable city.\n",
    "data_cleaned['locality'].value_counts()"
   ]
  },
  {
   "cell_type": "code",
   "execution_count": 889,
   "metadata": {},
   "outputs": [
    {
     "data": {
      "text/plain": [
       "array(['Khandari', 'Agra Cantt', 'Shahganj', ..., 'Navapura',\n",
       "       'L&T Knowledge City', 'Danteshwar'], dtype=object)"
      ]
     },
     "execution_count": 889,
     "metadata": {},
     "output_type": "execute_result"
    }
   ],
   "source": [
    "# Unique city.\n",
    "data_cleaned['locality'].unique()"
   ]
  },
  {
   "cell_type": "code",
   "execution_count": 890,
   "metadata": {},
   "outputs": [
    {
     "data": {
      "text/plain": [
       "3731"
      ]
     },
     "execution_count": 890,
     "metadata": {},
     "output_type": "execute_result"
    }
   ],
   "source": [
    "# Number of unique establishment.\n",
    "data_cleaned['locality'].nunique()"
   ]
  },
  {
   "cell_type": "markdown",
   "metadata": {
    "id": "K5Z_jEgCRksa"
   },
   "source": [
    "**5. Variable 'cuisines'**"
   ]
  },
  {
   "cell_type": "code",
   "execution_count": 892,
   "metadata": {
    "id": "zp4nMxY9Rksb",
    "outputId": "4fef62f8-5a2b-48c0-e1ba-c479572bcf1e"
   },
   "outputs": [],
   "source": [
    "# we can split and explode the variables\n",
    "df_rest_type = data_cleaned['cuisines'].str.split(', ')\n",
    "types_cuisines = df_rest_type.explode()"
   ]
  },
  {
   "cell_type": "code",
   "execution_count": 893,
   "metadata": {},
   "outputs": [
    {
     "data": {
      "text/plain": [
       "cuisines\n",
       "North Indian     21259\n",
       "Chinese          14139\n",
       "Fast Food        13191\n",
       "Desserts          7755\n",
       "Beverages         7486\n",
       "                 ...  \n",
       "Garhwali             2\n",
       "International        1\n",
       "Swedish              1\n",
       "Vegan                1\n",
       "Mandi                1\n",
       "Name: count, Length: 133, dtype: int64"
      ]
     },
     "execution_count": 893,
     "metadata": {},
     "output_type": "execute_result"
    }
   ],
   "source": [
    "# Value count of variable city.\n",
    "types_cuisines.value_counts()"
   ]
  },
  {
   "cell_type": "code",
   "execution_count": 894,
   "metadata": {},
   "outputs": [
    {
     "data": {
      "text/plain": [
       "array(['North Indian', 'South Indian', 'Mithai', 'Street Food',\n",
       "       'Desserts', 'Mughlai', 'Rolls', 'Chinese', 'Fast Food', 'Bakery',\n",
       "       'Continental', 'Italian', 'Pizza', 'Cafe', 'Burger', 'Wraps',\n",
       "       'Beverages', 'Rajasthani', 'Mexican', 'Healthy Food', 'Sandwich',\n",
       "       'Salad', 'Momos', 'Lebanese', 'Mediterranean', 'Thai', 'Gujarati',\n",
       "       'Indian', 'Finger Food', 'European', 'Tea', 'Asian', 'Bar Food',\n",
       "       'Kebab', 'Paan', 'Biryani', 'Juices', 'Ice Cream', 'Japanese',\n",
       "       'Korean', 'Afghan', 'Awadhi', nan, 'Hyderabadi', 'Lucknowi',\n",
       "       'Roast Chicken', 'Drinks Only', 'Coffee', 'American', 'BBQ',\n",
       "       'Maharashtrian', 'Modern Indian', 'Andhra', 'Konkan', 'Kerala',\n",
       "       'Sushi', 'Parsi', 'Greek', 'Bengali', 'Seafood', 'Frozen Yogurt',\n",
       "       'Arabian', 'Indonesian', 'Sindhi', 'Hot dogs', 'Goan',\n",
       "       'Charcoal Chicken', 'Raw Meats', 'Grill', 'Malwani', 'Cantonese',\n",
       "       'Pakistani', 'Steak', 'Vietnamese', 'Singaporean',\n",
       "       'Middle Eastern', 'British', 'French', 'Burmese', 'Kashmiri',\n",
       "       'Mangalorean', 'Malaysian', 'Tex-Mex', 'Spanish', 'Chettinad',\n",
       "       'Tibetan', 'German', 'Belgian', 'Turkish', 'Bihari', 'Odia',\n",
       "       'Naga', 'Bubble Tea', 'Moroccan', 'Sri Lankan', 'Mandi',\n",
       "       'Coffee and Tea', 'Cafe Food', 'Oriental', 'Cuisine Varies',\n",
       "       'Pan Asian', 'Mishti', 'Portuguese', 'Iranian', 'North Eastern',\n",
       "       'Mongolian', 'Irish', 'Tamil', 'Russian', 'Panini',\n",
       "       'South American', 'Fusion', 'Nepalese', 'International',\n",
       "       'Modern Australian', 'Poké', 'Falafel', 'Armenian', 'Peruvian',\n",
       "       'Brazilian', 'Himachali', 'Israeli', 'Bohri', 'Assamese',\n",
       "       'Bangladeshi', 'African', 'Egyptian', 'Crepes', 'Fried Chicken',\n",
       "       'Swedish', 'Cake', 'Garhwali', 'Vegan', 'Afghani'], dtype=object)"
      ]
     },
     "execution_count": 894,
     "metadata": {},
     "output_type": "execute_result"
    }
   ],
   "source": [
    "# Unique Cuisines.\n",
    "types_cuisines.unique()"
   ]
  },
  {
   "cell_type": "code",
   "execution_count": 895,
   "metadata": {},
   "outputs": [
    {
     "data": {
      "text/plain": [
       "133"
      ]
     },
     "execution_count": 895,
     "metadata": {},
     "output_type": "execute_result"
    }
   ],
   "source": [
    "# Number of unique cuisines\n",
    "types_cuisines.nunique()"
   ]
  },
  {
   "cell_type": "markdown",
   "metadata": {
    "id": "DO4zTAeARksc"
   },
   "source": [
    "**6. Variable 'average_cost_for_two'**"
   ]
  },
  {
   "cell_type": "code",
   "execution_count": 897,
   "metadata": {
    "id": "dfzZxHFVRksd",
    "outputId": "4bb8aff5-f806-4191-bca5-3b150bbe633a",
    "scrolled": true
   },
   "outputs": [
    {
     "data": {
      "text/plain": [
       "count    60411.000000\n",
       "mean       538.290940\n",
       "std        593.852855\n",
       "min          0.000000\n",
       "25%        200.000000\n",
       "50%        400.000000\n",
       "75%        600.000000\n",
       "max      30000.000000\n",
       "Name: average_cost_for_two, dtype: float64"
      ]
     },
     "execution_count": 897,
     "metadata": {},
     "output_type": "execute_result"
    }
   ],
   "source": [
    "data_cleaned['average_cost_for_two'].describe()"
   ]
  },
  {
   "cell_type": "code",
   "execution_count": 898,
   "metadata": {},
   "outputs": [
    {
     "data": {
      "image/png": "[encoded data removed]",
      "text/plain": [
       "<Figure size 1000x500 with 2 Axes>"
      ]
     },
     "metadata": {},
     "output_type": "display_data"
    }
   ],
   "source": [
    "fig,axs = plt.subplots(nrows=1,ncols=2,figsize=(10,5))\n",
    "sns.histplot(data_cleaned['average_cost_for_two'],kde=True,ax=axs[0])\n",
    "sns.boxplot(data_cleaned,x='average_cost_for_two',ax=axs[1])\n",
    "plt.show()"
   ]
  },
  {
   "cell_type": "code",
   "execution_count": null,
   "metadata": {},
   "outputs": [],
   "source": []
  },
  {
   "cell_type": "markdown",
   "metadata": {
    "id": "-yoJVd8SRkse"
   },
   "source": [
    "**7. Variable 'price_range'**"
   ]
  },
  {
   "cell_type": "code",
   "execution_count": 906,
   "metadata": {},
   "outputs": [
    {
     "data": {
      "text/plain": [
       "price_range\n",
       "1    30677\n",
       "2    18377\n",
       "3     8299\n",
       "4     3058\n",
       "Name: count, dtype: int64"
      ]
     },
     "execution_count": 906,
     "metadata": {},
     "output_type": "execute_result"
    }
   ],
   "source": [
    "data_cleaned['price_range'].value_counts()"
   ]
  },
  {
   "cell_type": "markdown",
   "metadata": {
    "id": "PlBgYTwlRksf"
   },
   "source": [
    "**8. Variable 'highlights'**"
   ]
  },
  {
   "cell_type": "code",
   "execution_count": 908,
   "metadata": {},
   "outputs": [
    {
     "data": {
      "text/plain": [
       "cuisines\n",
       "North Indian     21259\n",
       "Chinese          14139\n",
       "Fast Food        13191\n",
       "Desserts          7755\n",
       "Beverages         7486\n",
       "                 ...  \n",
       "Garhwali             2\n",
       "International        1\n",
       "Swedish              1\n",
       "Vegan                1\n",
       "Mandi                1\n",
       "Name: count, Length: 133, dtype: int64"
      ]
     },
     "execution_count": 908,
     "metadata": {},
     "output_type": "execute_result"
    }
   ],
   "source": [
    "df_highlights_type = data_cleaned['highlights'].str.split(', ')\n",
    "df_highlights = df_rest_type.explode()\n",
    "df_highlights.value_counts()"
   ]
  },
  {
   "cell_type": "code",
   "execution_count": 909,
   "metadata": {},
   "outputs": [
    {
     "data": {
      "text/plain": [
       "array(['North Indian', 'South Indian', 'Mithai', 'Street Food',\n",
       "       'Desserts', 'Mughlai', 'Rolls', 'Chinese', 'Fast Food', 'Bakery',\n",
       "       'Continental', 'Italian', 'Pizza', 'Cafe', 'Burger', 'Wraps',\n",
       "       'Beverages', 'Rajasthani', 'Mexican', 'Healthy Food', 'Sandwich',\n",
       "       'Salad', 'Momos', 'Lebanese', 'Mediterranean', 'Thai', 'Gujarati',\n",
       "       'Indian', 'Finger Food', 'European', 'Tea', 'Asian', 'Bar Food',\n",
       "       'Kebab', 'Paan', 'Biryani', 'Juices', 'Ice Cream', 'Japanese',\n",
       "       'Korean', 'Afghan', 'Awadhi', nan, 'Hyderabadi', 'Lucknowi',\n",
       "       'Roast Chicken', 'Drinks Only', 'Coffee', 'American', 'BBQ',\n",
       "       'Maharashtrian', 'Modern Indian', 'Andhra', 'Konkan', 'Kerala',\n",
       "       'Sushi', 'Parsi', 'Greek', 'Bengali', 'Seafood', 'Frozen Yogurt',\n",
       "       'Arabian', 'Indonesian', 'Sindhi', 'Hot dogs', 'Goan',\n",
       "       'Charcoal Chicken', 'Raw Meats', 'Grill', 'Malwani', 'Cantonese',\n",
       "       'Pakistani', 'Steak', 'Vietnamese', 'Singaporean',\n",
       "       'Middle Eastern', 'British', 'French', 'Burmese', 'Kashmiri',\n",
       "       'Mangalorean', 'Malaysian', 'Tex-Mex', 'Spanish', 'Chettinad',\n",
       "       'Tibetan', 'German', 'Belgian', 'Turkish', 'Bihari', 'Odia',\n",
       "       'Naga', 'Bubble Tea', 'Moroccan', 'Sri Lankan', 'Mandi',\n",
       "       'Coffee and Tea', 'Cafe Food', 'Oriental', 'Cuisine Varies',\n",
       "       'Pan Asian', 'Mishti', 'Portuguese', 'Iranian', 'North Eastern',\n",
       "       'Mongolian', 'Irish', 'Tamil', 'Russian', 'Panini',\n",
       "       'South American', 'Fusion', 'Nepalese', 'International',\n",
       "       'Modern Australian', 'Poké', 'Falafel', 'Armenian', 'Peruvian',\n",
       "       'Brazilian', 'Himachali', 'Israeli', 'Bohri', 'Assamese',\n",
       "       'Bangladeshi', 'African', 'Egyptian', 'Crepes', 'Fried Chicken',\n",
       "       'Swedish', 'Cake', 'Garhwali', 'Vegan', 'Afghani'], dtype=object)"
      ]
     },
     "execution_count": 909,
     "metadata": {},
     "output_type": "execute_result"
    }
   ],
   "source": [
    "df_highlights.unique()"
   ]
  },
  {
   "cell_type": "code",
   "execution_count": 910,
   "metadata": {},
   "outputs": [
    {
     "data": {
      "text/plain": [
       "133"
      ]
     },
     "execution_count": 910,
     "metadata": {},
     "output_type": "execute_result"
    }
   ],
   "source": [
    "df_highlights.nunique()"
   ]
  },
  {
   "cell_type": "markdown",
   "metadata": {
    "id": "NeUfurlURksh"
   },
   "source": [
    "**9. Variable 'aggregate_rating'** \n"
   ]
  },
  {
   "cell_type": "code",
   "execution_count": 912,
   "metadata": {},
   "outputs": [
    {
     "data": {
      "image/png": "[encoded data removed]",
      "text/plain": [
       "<Figure size 1000x500 with 2 Axes>"
      ]
     },
     "metadata": {},
     "output_type": "display_data"
    }
   ],
   "source": [
    "fig,axs = plt.subplots(nrows=1,ncols=2,figsize=(10,5))\n",
    "sns.histplot(data_cleaned['aggregate_rating'],kde=True,ax=axs[0])\n",
    "sns.boxplot(data_cleaned,x='aggregate_rating',ax=axs[1])\n",
    "plt.show()"
   ]
  },
  {
   "cell_type": "code",
   "execution_count": 917,
   "metadata": {
    "id": "_yNRY4QwRksh",
    "outputId": "194863b0-a7a6-47b9-bedd-1963b2f6296e",
    "scrolled": true
   },
   "outputs": [
    {
     "data": {
      "text/plain": [
       "aggregate_rating\n",
       "0.0    10159\n",
       "3.9     3972\n",
       "3.8     3837\n",
       "4.0     3826\n",
       "3.7     3647\n",
       "3.6     3271\n",
       "4.1     3250\n",
       "3.2     3005\n",
       "3.5     2970\n",
       "3.4     2922\n",
       "3.3     2903\n",
       "4.2     2601\n",
       "4.3     1969\n",
       "3.1     1816\n",
       "3.0     1627\n",
       "2.9     1521\n",
       "4.4     1333\n",
       "2.8     1170\n",
       "4.5      877\n",
       "2.7      868\n",
       "4.6      585\n",
       "2.6      575\n",
       "2.5      402\n",
       "4.7      333\n",
       "2.4      305\n",
       "4.8      202\n",
       "4.9      179\n",
       "2.3      176\n",
       "2.2       66\n",
       "2.1       28\n",
       "2.0       10\n",
       "1.9        4\n",
       "1.8        2\n",
       "Name: count, dtype: int64"
      ]
     },
     "execution_count": 917,
     "metadata": {},
     "output_type": "execute_result"
    }
   ],
   "source": [
    "data_cleaned['aggregate_rating'].value_counts()"
   ]
  },
  {
   "cell_type": "code",
   "execution_count": 918,
   "metadata": {},
   "outputs": [
    {
     "data": {
      "text/plain": [
       "array([4.4, 4.2, 4.3, 4.9, 4. , 3.8, 3.4, 4.1, 3.5, 4.6, 3.9, 3.6, 4.5,\n",
       "       4.7, 3.7, 4.8, 3.2, 0. , 3.3, 2.8, 3.1, 2.6, 3. , 2.7, 2.9, 2.2,\n",
       "       2.3, 2.4, 2.5, 2.1, 1.8, 2. , 1.9])"
      ]
     },
     "execution_count": 918,
     "metadata": {},
     "output_type": "execute_result"
    }
   ],
   "source": [
    "data_cleaned['aggregate_rating'].unique()"
   ]
  },
  {
   "cell_type": "code",
   "execution_count": 919,
   "metadata": {},
   "outputs": [
    {
     "data": {
      "text/plain": [
       "33"
      ]
     },
     "execution_count": 919,
     "metadata": {},
     "output_type": "execute_result"
    }
   ],
   "source": [
    "data_cleaned['aggregate_rating'].nunique()"
   ]
  },
  {
   "cell_type": "markdown",
   "metadata": {
    "id": "I9FwyopXRksi"
   },
   "source": [
    "**10. Variable 'rating_text'**\n",
    "\n"
   ]
  },
  {
   "cell_type": "code",
   "execution_count": 950,
   "metadata": {
    "id": "wvcn5QEHRksi",
    "outputId": "63144fef-c9c2-4c9b-ba24-a4184a57b269"
   },
   "outputs": [
    {
     "data": {
      "text/plain": [
       "rating_text\n",
       "Good             17569\n",
       "Average          16779\n",
       "Very Good        12714\n",
       "Not rated        10159\n",
       "Excellent         2063\n",
       "Poor               590\n",
       "Çok iyi             56\n",
       "Sangat Baik         44\n",
       "Muito Bom           43\n",
       "Excelente           34\n",
       "Muy Bueno           33\n",
       "Bardzo dobrze       29\n",
       "Bom                 26\n",
       "Baik                24\n",
       "Skvělé              24\n",
       "Velmi dobré         22\n",
       "İyi                 19\n",
       "Harika              18\n",
       "Ottimo              17\n",
       "Veľmi dobré         16\n",
       "Buono               14\n",
       "Terbaik             14\n",
       "Skvělá volba        13\n",
       "Dobré               12\n",
       "Bueno               11\n",
       "Dobrze               9\n",
       "Wybitnie             8\n",
       "Eccellente           8\n",
       "Vynikajúce           7\n",
       "Průměr               6\n",
       "Média                5\n",
       "Promedio             5\n",
       "Muito bom            5\n",
       "Ortalama             3\n",
       "Średnio              3\n",
       "Priemer              3\n",
       "Media                3\n",
       "Biasa                2\n",
       "Scarso               1\n",
       "Name: count, dtype: int64"
      ]
     },
     "execution_count": 950,
     "metadata": {},
     "output_type": "execute_result"
    }
   ],
   "source": [
    "data_cleaned['rating_text'].value_counts()"
   ]
  },
  {
   "cell_type": "code",
   "execution_count": 952,
   "metadata": {},
   "outputs": [
    {
     "data": {
      "text/plain": [
       "array(['Very Good', 'Excellent', 'Good', 'Average', 'Not rated', 'Poor',\n",
       "       'Dobré', 'Baik', 'Sangat Baik', 'Excelente', 'Bardzo dobrze',\n",
       "       'Wybitnie', 'Ottimo', 'Muito Bom', 'Velmi dobré', 'Skvělá volba',\n",
       "       'Muy Bueno', 'Bom', 'İyi', 'Çok iyi', 'Harika', 'Terbaik',\n",
       "       'Skvělé', 'Průměr', 'Ortalama', 'Bueno', 'Eccellente', 'Muito bom',\n",
       "       'Dobrze', 'Buono', 'Média', 'Scarso', 'Promedio', 'Veľmi dobré',\n",
       "       'Vynikajúce', 'Średnio', 'Priemer', 'Biasa', 'Media'], dtype=object)"
      ]
     },
     "execution_count": 952,
     "metadata": {},
     "output_type": "execute_result"
    }
   ],
   "source": [
    "data_cleaned['rating_text'].unique()"
   ]
  },
  {
   "cell_type": "code",
   "execution_count": 954,
   "metadata": {},
   "outputs": [
    {
     "data": {
      "text/plain": [
       "39"
      ]
     },
     "execution_count": 954,
     "metadata": {},
     "output_type": "execute_result"
    }
   ],
   "source": [
    "data_cleaned['rating_text'].nunique()"
   ]
  },
  {
   "cell_type": "markdown",
   "metadata": {
    "id": "QQ7oXSmFRksj"
   },
   "source": [
    "**11. Variable 'votes'**"
   ]
  },
  {
   "cell_type": "code",
   "execution_count": 957,
   "metadata": {},
   "outputs": [
    {
     "data": {
      "image/png": "[encoded data removed]",
      "text/plain": [
       "<Figure size 1000x500 with 2 Axes>"
      ]
     },
     "metadata": {},
     "output_type": "display_data"
    }
   ],
   "source": [
    "fig,axs = plt.subplots(nrows=1,ncols=2,figsize=(10,5))\n",
    "sns.histplot(data_cleaned['votes'],kde=True,ax=axs[0])\n",
    "sns.boxplot(data_cleaned,x='votes',ax=axs[1])\n",
    "plt.show()"
   ]
  },
  {
   "cell_type": "code",
   "execution_count": 958,
   "metadata": {},
   "outputs": [
    {
     "data": {
      "text/plain": [
       "array([ 814, 1203,  801, ..., 2001, 1191, 1583], dtype=int64)"
      ]
     },
     "execution_count": 958,
     "metadata": {},
     "output_type": "execute_result"
    }
   ],
   "source": [
    "data_cleaned['votes'].unique()"
   ]
  },
  {
   "cell_type": "code",
   "execution_count": 959,
   "metadata": {
    "id": "BSUYYMLNRksj",
    "outputId": "22e34bf4-5f73-4f22-93b6-5fc863def67e"
   },
   "outputs": [
    {
     "data": {
      "text/plain": [
       "2642"
      ]
     },
     "execution_count": 959,
     "metadata": {},
     "output_type": "execute_result"
    }
   ],
   "source": [
    "data_cleaned['votes'].nunique()"
   ]
  },
  {
   "cell_type": "markdown",
   "metadata": {
    "id": "vHP9OgAkRksk"
   },
   "source": [
    "**12. Variable 'photo_count'**"
   ]
  },
  {
   "cell_type": "code",
   "execution_count": 961,
   "metadata": {
    "id": "UVt-x0JRRksk",
    "outputId": "2b730239-6825-4e02-dee7-ad753ba4dbbf"
   },
   "outputs": [
    {
     "data": {
      "text/plain": [
       "photo_count\n",
       "0       10828\n",
       "1        4331\n",
       "2        3087\n",
       "3        2411\n",
       "4        1930\n",
       "        ...  \n",
       "3116        1\n",
       "1141        1\n",
       "4630        1\n",
       "7100        1\n",
       "828         1\n",
       "Name: count, Length: 2514, dtype: int64"
      ]
     },
     "execution_count": 961,
     "metadata": {},
     "output_type": "execute_result"
    }
   ],
   "source": [
    "data_cleaned['photo_count'].value_counts()"
   ]
  },
  {
   "cell_type": "code",
   "execution_count": 962,
   "metadata": {},
   "outputs": [
    {
     "data": {
      "text/plain": [
       "array([154, 161, 107, ..., 987, 678, 828], dtype=int64)"
      ]
     },
     "execution_count": 962,
     "metadata": {},
     "output_type": "execute_result"
    }
   ],
   "source": [
    "data_cleaned['photo_count'].unique()"
   ]
  },
  {
   "cell_type": "markdown",
   "metadata": {
    "id": "t70rE3moRksk"
   },
   "source": [
    "**13. Variable 'delivery'**"
   ]
  },
  {
   "cell_type": "code",
   "execution_count": 964,
   "metadata": {
    "id": "Y7xjeTHXRksl",
    "outputId": "9c0c62bd-13e0-4720-e1b3-c241ffb8a102"
   },
   "outputs": [
    {
     "data": {
      "text/plain": [
       "(delivery\n",
       " -1    41261\n",
       "  1    18806\n",
       "  0      344\n",
       " Name: count, dtype: int64,\n",
       " delivery\n",
       " -1    0.683005\n",
       "  1    0.311301\n",
       "  0    0.005694\n",
       " Name: proportion, dtype: float64)"
      ]
     },
     "execution_count": 964,
     "metadata": {},
     "output_type": "execute_result"
    }
   ],
   "source": [
    "data_cleaned['delivery'].value_counts(),data_cleaned['delivery'].value_counts(normalize=True)"
   ]
  },
  {
   "cell_type": "markdown",
   "metadata": {
    "id": "GxRyhOiCRksl"
   },
   "source": [
    "<a id ='missing'></a>\n",
    "## 6. Check for missing values"
   ]
  },
  {
   "cell_type": "code",
   "execution_count": 966,
   "metadata": {
    "id": "N56Y7OuvRksl",
    "outputId": "89ca725e-abbb-48e8-c147-f0d03f33070d"
   },
   "outputs": [
    {
     "data": {
      "text/plain": [
       "establishment    1920\n",
       "address            18\n",
       "cuisines          470\n",
       "timings          1070\n",
       "highlights        743\n",
       "dtype: int64"
      ]
     },
     "execution_count": 966,
     "metadata": {},
     "output_type": "execute_result"
    }
   ],
   "source": [
    "missing_values = data_cleaned.isnull().sum()\n",
    "missing_values[missing_values > 0]"
   ]
  },
  {
   "cell_type": "code",
   "execution_count": 967,
   "metadata": {},
   "outputs": [],
   "source": [
    "# Handle missing values in 'establishment' column\n",
    "data_cleaned['establishment'].fillna('No establishment',inplace = True)"
   ]
  },
  {
   "cell_type": "code",
   "execution_count": 968,
   "metadata": {},
   "outputs": [],
   "source": [
    "# Handle missing values in 'cuisines' column\n",
    "data_cleaned['cuisines'].fillna('No cuisine',inplace = True)"
   ]
  },
  {
   "cell_type": "code",
   "execution_count": 969,
   "metadata": {},
   "outputs": [],
   "source": [
    "# Handle missing values in 'timings' column\n",
    "data_cleaned['timings'].fillna('Not available',inplace = True)"
   ]
  },
  {
   "cell_type": "code",
   "execution_count": 970,
   "metadata": {},
   "outputs": [],
   "source": [
    "# Handle missing values in 'highlights' column\n",
    "data_cleaned['highlights'].fillna('No highlights',inplace = True)"
   ]
  },
  {
   "cell_type": "code",
   "execution_count": 971,
   "metadata": {},
   "outputs": [
    {
     "data": {
      "text/plain": [
       "array(['Very Good', 'Excellent', 'Good', 'Average', 'Not rated', 'Poor',\n",
       "       'Dobré', 'Baik', 'Sangat Baik', 'Excelente', 'Bardzo dobrze',\n",
       "       'Wybitnie', 'Ottimo', 'Muito Bom', 'Velmi dobré', 'Skvělá volba',\n",
       "       'Muy Bueno', 'Bom', 'İyi', 'Çok iyi', 'Harika', 'Terbaik',\n",
       "       'Skvělé', 'Průměr', 'Ortalama', 'Bueno', 'Eccellente', 'Muito bom',\n",
       "       'Dobrze', 'Buono', 'Média', 'Scarso', 'Promedio', 'Veľmi dobré',\n",
       "       'Vynikajúce', 'Średnio', 'Priemer', 'Biasa', 'Media'], dtype=object)"
      ]
     },
     "execution_count": 971,
     "metadata": {},
     "output_type": "execute_result"
    }
   ],
   "source": [
    "# Handle the unwanted words in 'rating_text' column\n",
    "data_cleaned['rating_text'].unique()"
   ]
  },
  {
   "cell_type": "code",
   "execution_count": 984,
   "metadata": {},
   "outputs": [],
   "source": [
    "data_cleaned['rating_text'].replace({'Excelente':'Excellent','Eccellente':'Excellent'},inplace= True)"
   ]
  },
  {
   "cell_type": "code",
   "execution_count": 986,
   "metadata": {},
   "outputs": [
    {
     "data": {
      "text/plain": [
       "array(['Very Good', 'Excellent', 'Good', 'Average', 'Not rated', 'Poor',\n",
       "       'Dobré', 'Baik', 'Sangat Baik', 'Bardzo dobrze', 'Wybitnie',\n",
       "       'Ottimo', 'Muito Bom', 'Velmi dobré', 'Skvělá volba', 'Muy Bueno',\n",
       "       'Bom', 'İyi', 'Çok iyi', 'Harika', 'Terbaik', 'Skvělé', 'Průměr',\n",
       "       'Ortalama', 'Bueno', 'Muito bom', 'Dobrze', 'Buono', 'Média',\n",
       "       'Scarso', 'Promedio', 'Veľmi dobré', 'Vynikajúce', 'Średnio',\n",
       "       'Priemer', 'Biasa', 'Media'], dtype=object)"
      ]
     },
     "execution_count": 986,
     "metadata": {},
     "output_type": "execute_result"
    }
   ],
   "source": [
    "data_cleaned['rating_text'].unique()"
   ]
  },
  {
   "cell_type": "code",
   "execution_count": 988,
   "metadata": {},
   "outputs": [],
   "source": [
    "mode_value = data_cleaned['rating_text'].mode()[0]\n",
    "\n",
    "data_cleaned.loc[data_cleaned['rating_text'].isin([\n",
    "    'Dobré', 'Baik', 'Sangat Baik', 'Bardzo dobrze', 'Wybitnie', 'Ottimo',\n",
    "    'Muito Bom', 'Velmi dobré', 'Skvělá volba', 'Muy Bueno', 'Bom',\n",
    "    'İyi', 'Çok iyi', 'Harika', 'Terbaik', 'Skvělé', 'Průměr',\n",
    "    'Ortalama', 'Bueno', 'Muito bom', 'Dobrze', 'Buono', 'Média',\n",
    "    'Scarso', 'Promedio', 'Veľmi dobré', 'Vynikajúce', 'Średnio',\n",
    "    'Priemer', 'Biasa', 'Media'\n",
    "]), 'rating_text'] = mode_value\n"
   ]
  },
  {
   "cell_type": "code",
   "execution_count": 990,
   "metadata": {},
   "outputs": [
    {
     "data": {
      "text/plain": [
       "array(['Very Good', 'Excellent', 'Good', 'Average', 'Not rated', 'Poor'],\n",
       "      dtype=object)"
      ]
     },
     "execution_count": 990,
     "metadata": {},
     "output_type": "execute_result"
    }
   ],
   "source": [
    "data_cleaned['rating_text'].unique()"
   ]
  },
  {
   "cell_type": "code",
   "execution_count": 992,
   "metadata": {},
   "outputs": [
    {
     "data": {
      "text/plain": [
       "(60411, 22)"
      ]
     },
     "execution_count": 992,
     "metadata": {},
     "output_type": "execute_result"
    }
   ],
   "source": [
    "data_cleaned.shape"
   ]
  },
  {
   "cell_type": "markdown",
   "metadata": {
    "id": "5-OEXgMuRksn"
   },
   "source": [
    "**6. Study summary statistics**"
   ]
  },
  {
   "cell_type": "code",
   "execution_count": 995,
   "metadata": {},
   "outputs": [
    {
     "data": {
      "text/html": [
       "<div>\n",
       "<style scoped>\n",
       "    .dataframe tbody tr th:only-of-type {\n",
       "        vertical-align: middle;\n",
       "    }\n",
       "\n",
       "    .dataframe tbody tr th {\n",
       "        vertical-align: top;\n",
       "    }\n",
       "\n",
       "    .dataframe thead th {\n",
       "        text-align: right;\n",
       "    }\n",
       "</style>\n",
       "<table border=\"1\" class=\"dataframe\">\n",
       "  <thead>\n",
       "    <tr style=\"text-align: right;\">\n",
       "      <th></th>\n",
       "      <th>count</th>\n",
       "      <th>mean</th>\n",
       "      <th>std</th>\n",
       "      <th>min</th>\n",
       "      <th>25%</th>\n",
       "      <th>50%</th>\n",
       "      <th>75%</th>\n",
       "      <th>max</th>\n",
       "    </tr>\n",
       "  </thead>\n",
       "  <tbody>\n",
       "    <tr>\n",
       "      <th>res_id</th>\n",
       "      <td>60411.0</td>\n",
       "      <td>13092801.11867</td>\n",
       "      <td>8133029.119784</td>\n",
       "      <td>50.0</td>\n",
       "      <td>3000479.0</td>\n",
       "      <td>18691499.0</td>\n",
       "      <td>18866698.5</td>\n",
       "      <td>19159790.0</td>\n",
       "    </tr>\n",
       "    <tr>\n",
       "      <th>city_id</th>\n",
       "      <td>60411.0</td>\n",
       "      <td>3417.519922</td>\n",
       "      <td>5179.012871</td>\n",
       "      <td>1.0</td>\n",
       "      <td>7.0</td>\n",
       "      <td>26.0</td>\n",
       "      <td>11295.0</td>\n",
       "      <td>11354.0</td>\n",
       "    </tr>\n",
       "    <tr>\n",
       "      <th>latitude</th>\n",
       "      <td>60411.0</td>\n",
       "      <td>21.349891</td>\n",
       "      <td>41.189967</td>\n",
       "      <td>0.0</td>\n",
       "      <td>16.324531</td>\n",
       "      <td>22.320915</td>\n",
       "      <td>26.744391</td>\n",
       "      <td>10000.0</td>\n",
       "    </tr>\n",
       "    <tr>\n",
       "      <th>longitude</th>\n",
       "      <td>60411.0</td>\n",
       "      <td>76.587651</td>\n",
       "      <td>10.600965</td>\n",
       "      <td>0.0</td>\n",
       "      <td>74.653081</td>\n",
       "      <td>77.134875</td>\n",
       "      <td>79.928133</td>\n",
       "      <td>91.832769</td>\n",
       "    </tr>\n",
       "    <tr>\n",
       "      <th>average_cost_for_two</th>\n",
       "      <td>60411.0</td>\n",
       "      <td>538.29094</td>\n",
       "      <td>593.852855</td>\n",
       "      <td>0.0</td>\n",
       "      <td>200.0</td>\n",
       "      <td>400.0</td>\n",
       "      <td>600.0</td>\n",
       "      <td>30000.0</td>\n",
       "    </tr>\n",
       "    <tr>\n",
       "      <th>price_range</th>\n",
       "      <td>60411.0</td>\n",
       "      <td>1.730811</td>\n",
       "      <td>0.88046</td>\n",
       "      <td>1.0</td>\n",
       "      <td>1.0</td>\n",
       "      <td>1.0</td>\n",
       "      <td>2.0</td>\n",
       "      <td>4.0</td>\n",
       "    </tr>\n",
       "    <tr>\n",
       "      <th>aggregate_rating</th>\n",
       "      <td>60411.0</td>\n",
       "      <td>3.032794</td>\n",
       "      <td>1.440785</td>\n",
       "      <td>0.0</td>\n",
       "      <td>2.9</td>\n",
       "      <td>3.5</td>\n",
       "      <td>4.0</td>\n",
       "      <td>4.9</td>\n",
       "    </tr>\n",
       "    <tr>\n",
       "      <th>votes</th>\n",
       "      <td>60411.0</td>\n",
       "      <td>261.508219</td>\n",
       "      <td>728.072564</td>\n",
       "      <td>0.0</td>\n",
       "      <td>7.0</td>\n",
       "      <td>42.0</td>\n",
       "      <td>207.0</td>\n",
       "      <td>42539.0</td>\n",
       "    </tr>\n",
       "    <tr>\n",
       "      <th>photo_count</th>\n",
       "      <td>60411.0</td>\n",
       "      <td>193.969393</td>\n",
       "      <td>702.111852</td>\n",
       "      <td>0.0</td>\n",
       "      <td>1.0</td>\n",
       "      <td>11.0</td>\n",
       "      <td>82.0</td>\n",
       "      <td>17702.0</td>\n",
       "    </tr>\n",
       "    <tr>\n",
       "      <th>delivery</th>\n",
       "      <td>60411.0</td>\n",
       "      <td>-0.371704</td>\n",
       "      <td>0.925287</td>\n",
       "      <td>-1.0</td>\n",
       "      <td>-1.0</td>\n",
       "      <td>-1.0</td>\n",
       "      <td>1.0</td>\n",
       "      <td>1.0</td>\n",
       "    </tr>\n",
       "  </tbody>\n",
       "</table>\n",
       "</div>"
      ],
      "text/plain": [
       "                        count            mean             std   min        25%         50%  \\\n",
       "res_id                60411.0  13092801.11867  8133029.119784  50.0  3000479.0  18691499.0   \n",
       "city_id               60411.0     3417.519922     5179.012871   1.0        7.0        26.0   \n",
       "latitude              60411.0       21.349891       41.189967   0.0  16.324531   22.320915   \n",
       "longitude             60411.0       76.587651       10.600965   0.0  74.653081   77.134875   \n",
       "average_cost_for_two  60411.0       538.29094      593.852855   0.0      200.0       400.0   \n",
       "price_range           60411.0        1.730811         0.88046   1.0        1.0         1.0   \n",
       "aggregate_rating      60411.0        3.032794        1.440785   0.0        2.9         3.5   \n",
       "votes                 60411.0      261.508219      728.072564   0.0        7.0        42.0   \n",
       "photo_count           60411.0      193.969393      702.111852   0.0        1.0        11.0   \n",
       "delivery              60411.0       -0.371704        0.925287  -1.0       -1.0        -1.0   \n",
       "\n",
       "                             75%         max  \n",
       "res_id                18866698.5  19159790.0  \n",
       "city_id                  11295.0     11354.0  \n",
       "latitude               26.744391     10000.0  \n",
       "longitude              79.928133   91.832769  \n",
       "average_cost_for_two       600.0     30000.0  \n",
       "price_range                  2.0         4.0  \n",
       "aggregate_rating             4.0         4.9  \n",
       "votes                      207.0     42539.0  \n",
       "photo_count                 82.0     17702.0  \n",
       "delivery                     1.0         1.0  "
      ]
     },
     "execution_count": 995,
     "metadata": {},
     "output_type": "execute_result"
    }
   ],
   "source": [
    "data_cleaned.describe().T"
   ]
  },
  {
   "cell_type": "code",
   "execution_count": 1104,
   "metadata": {},
   "outputs": [
    {
     "data": {
      "text/html": [
       "<div>\n",
       "<style scoped>\n",
       "    .dataframe tbody tr th:only-of-type {\n",
       "        vertical-align: middle;\n",
       "    }\n",
       "\n",
       "    .dataframe tbody tr th {\n",
       "        vertical-align: top;\n",
       "    }\n",
       "\n",
       "    .dataframe thead th {\n",
       "        text-align: right;\n",
       "    }\n",
       "</style>\n",
       "<table border=\"1\" class=\"dataframe\">\n",
       "  <thead>\n",
       "    <tr style=\"text-align: right;\">\n",
       "      <th></th>\n",
       "      <th>count</th>\n",
       "      <th>unique</th>\n",
       "      <th>top</th>\n",
       "      <th>freq</th>\n",
       "      <th>mean</th>\n",
       "      <th>std</th>\n",
       "      <th>min</th>\n",
       "      <th>25%</th>\n",
       "      <th>50%</th>\n",
       "      <th>75%</th>\n",
       "      <th>max</th>\n",
       "    </tr>\n",
       "  </thead>\n",
       "  <tbody>\n",
       "    <tr>\n",
       "      <th>res_id</th>\n",
       "      <td>50252.0</td>\n",
       "      <td>NaN</td>\n",
       "      <td>NaN</td>\n",
       "      <td>NaN</td>\n",
       "      <td>12225808.40866</td>\n",
       "      <td>8395809.765715</td>\n",
       "      <td>50.0</td>\n",
       "      <td>2500676.5</td>\n",
       "      <td>18591107.0</td>\n",
       "      <td>18789429.0</td>\n",
       "      <td>19156191.0</td>\n",
       "    </tr>\n",
       "    <tr>\n",
       "      <th>name</th>\n",
       "      <td>50252</td>\n",
       "      <td>32998</td>\n",
       "      <td>Dominos Pizza</td>\n",
       "      <td>409</td>\n",
       "      <td>NaN</td>\n",
       "      <td>NaN</td>\n",
       "      <td>NaN</td>\n",
       "      <td>NaN</td>\n",
       "      <td>NaN</td>\n",
       "      <td>NaN</td>\n",
       "      <td>NaN</td>\n",
       "    </tr>\n",
       "    <tr>\n",
       "      <th>establishment</th>\n",
       "      <td>50252</td>\n",
       "      <td>27</td>\n",
       "      <td>Quick Bites</td>\n",
       "      <td>13363</td>\n",
       "      <td>NaN</td>\n",
       "      <td>NaN</td>\n",
       "      <td>NaN</td>\n",
       "      <td>NaN</td>\n",
       "      <td>NaN</td>\n",
       "      <td>NaN</td>\n",
       "      <td>NaN</td>\n",
       "    </tr>\n",
       "    <tr>\n",
       "      <th>url</th>\n",
       "      <td>50252</td>\n",
       "      <td>45510</td>\n",
       "      <td>https://www.zomato.com/mumbai/candy-and-green-breach-candy?utm_source=api_basic_user&amp;utm_medium=...</td>\n",
       "      <td>9</td>\n",
       "      <td>NaN</td>\n",
       "      <td>NaN</td>\n",
       "      <td>NaN</td>\n",
       "      <td>NaN</td>\n",
       "      <td>NaN</td>\n",
       "      <td>NaN</td>\n",
       "      <td>NaN</td>\n",
       "    </tr>\n",
       "    <tr>\n",
       "      <th>address</th>\n",
       "      <td>50248</td>\n",
       "      <td>42222</td>\n",
       "      <td>Manu Temple Road, Old Manali, Manali</td>\n",
       "      <td>18</td>\n",
       "      <td>NaN</td>\n",
       "      <td>NaN</td>\n",
       "      <td>NaN</td>\n",
       "      <td>NaN</td>\n",
       "      <td>NaN</td>\n",
       "      <td>NaN</td>\n",
       "      <td>NaN</td>\n",
       "    </tr>\n",
       "    <tr>\n",
       "      <th>city</th>\n",
       "      <td>50252</td>\n",
       "      <td>98</td>\n",
       "      <td>Chennai</td>\n",
       "      <td>2515</td>\n",
       "      <td>NaN</td>\n",
       "      <td>NaN</td>\n",
       "      <td>NaN</td>\n",
       "      <td>NaN</td>\n",
       "      <td>NaN</td>\n",
       "      <td>NaN</td>\n",
       "      <td>NaN</td>\n",
       "    </tr>\n",
       "    <tr>\n",
       "      <th>city_id</th>\n",
       "      <td>50252.0</td>\n",
       "      <td>&lt;NA&gt;</td>\n",
       "      <td>&lt;NA&gt;</td>\n",
       "      <td>&lt;NA&gt;</td>\n",
       "      <td>2879.980399</td>\n",
       "      <td>4911.845786</td>\n",
       "      <td>1.0</td>\n",
       "      <td>7.0</td>\n",
       "      <td>22.0</td>\n",
       "      <td>11054.0</td>\n",
       "      <td>11354.0</td>\n",
       "    </tr>\n",
       "    <tr>\n",
       "      <th>locality</th>\n",
       "      <td>50252</td>\n",
       "      <td>3588</td>\n",
       "      <td>Civil Lines</td>\n",
       "      <td>688</td>\n",
       "      <td>NaN</td>\n",
       "      <td>NaN</td>\n",
       "      <td>NaN</td>\n",
       "      <td>NaN</td>\n",
       "      <td>NaN</td>\n",
       "      <td>NaN</td>\n",
       "      <td>NaN</td>\n",
       "    </tr>\n",
       "    <tr>\n",
       "      <th>latitude</th>\n",
       "      <td>50252.0</td>\n",
       "      <td>NaN</td>\n",
       "      <td>NaN</td>\n",
       "      <td>NaN</td>\n",
       "      <td>21.516597</td>\n",
       "      <td>45.003485</td>\n",
       "      <td>0.0</td>\n",
       "      <td>16.523465</td>\n",
       "      <td>22.317663</td>\n",
       "      <td>26.743472</td>\n",
       "      <td>10000.0</td>\n",
       "    </tr>\n",
       "    <tr>\n",
       "      <th>longitude</th>\n",
       "      <td>50252.0</td>\n",
       "      <td>NaN</td>\n",
       "      <td>NaN</td>\n",
       "      <td>NaN</td>\n",
       "      <td>77.120065</td>\n",
       "      <td>8.46713</td>\n",
       "      <td>0.0</td>\n",
       "      <td>74.787353</td>\n",
       "      <td>77.172221</td>\n",
       "      <td>80.147483</td>\n",
       "      <td>91.832769</td>\n",
       "    </tr>\n",
       "    <tr>\n",
       "      <th>zipcode</th>\n",
       "      <td>50252</td>\n",
       "      <td>1266</td>\n",
       "      <td>nan</td>\n",
       "      <td>37997</td>\n",
       "      <td>NaN</td>\n",
       "      <td>NaN</td>\n",
       "      <td>NaN</td>\n",
       "      <td>NaN</td>\n",
       "      <td>NaN</td>\n",
       "      <td>NaN</td>\n",
       "      <td>NaN</td>\n",
       "    </tr>\n",
       "    <tr>\n",
       "      <th>locality_verbose</th>\n",
       "      <td>50252</td>\n",
       "      <td>3761</td>\n",
       "      <td>Gomti Nagar, Lucknow</td>\n",
       "      <td>287</td>\n",
       "      <td>NaN</td>\n",
       "      <td>NaN</td>\n",
       "      <td>NaN</td>\n",
       "      <td>NaN</td>\n",
       "      <td>NaN</td>\n",
       "      <td>NaN</td>\n",
       "      <td>NaN</td>\n",
       "    </tr>\n",
       "    <tr>\n",
       "      <th>cuisines</th>\n",
       "      <td>50252</td>\n",
       "      <td>8776</td>\n",
       "      <td>North Indian</td>\n",
       "      <td>3560</td>\n",
       "      <td>NaN</td>\n",
       "      <td>NaN</td>\n",
       "      <td>NaN</td>\n",
       "      <td>NaN</td>\n",
       "      <td>NaN</td>\n",
       "      <td>NaN</td>\n",
       "      <td>NaN</td>\n",
       "    </tr>\n",
       "    <tr>\n",
       "      <th>timings</th>\n",
       "      <td>50252</td>\n",
       "      <td>7219</td>\n",
       "      <td>11 AM to 11 PM</td>\n",
       "      <td>6296</td>\n",
       "      <td>NaN</td>\n",
       "      <td>NaN</td>\n",
       "      <td>NaN</td>\n",
       "      <td>NaN</td>\n",
       "      <td>NaN</td>\n",
       "      <td>NaN</td>\n",
       "      <td>NaN</td>\n",
       "    </tr>\n",
       "    <tr>\n",
       "      <th>average_cost_for_two</th>\n",
       "      <td>50252.0</td>\n",
       "      <td>NaN</td>\n",
       "      <td>NaN</td>\n",
       "      <td>NaN</td>\n",
       "      <td>585.811769</td>\n",
       "      <td>624.492011</td>\n",
       "      <td>0.0</td>\n",
       "      <td>250.0</td>\n",
       "      <td>400.0</td>\n",
       "      <td>700.0</td>\n",
       "      <td>30000.0</td>\n",
       "    </tr>\n",
       "    <tr>\n",
       "      <th>price_range</th>\n",
       "      <td>50252.0</td>\n",
       "      <td>NaN</td>\n",
       "      <td>NaN</td>\n",
       "      <td>NaN</td>\n",
       "      <td>1.805043</td>\n",
       "      <td>0.896763</td>\n",
       "      <td>1.0</td>\n",
       "      <td>1.0</td>\n",
       "      <td>2.0</td>\n",
       "      <td>2.0</td>\n",
       "      <td>4.0</td>\n",
       "    </tr>\n",
       "    <tr>\n",
       "      <th>highlights</th>\n",
       "      <td>50252</td>\n",
       "      <td>28462</td>\n",
       "      <td>Dinner, Takeaway Available, Lunch, Cash, Indoor Seating</td>\n",
       "      <td>679</td>\n",
       "      <td>NaN</td>\n",
       "      <td>NaN</td>\n",
       "      <td>NaN</td>\n",
       "      <td>NaN</td>\n",
       "      <td>NaN</td>\n",
       "      <td>NaN</td>\n",
       "      <td>NaN</td>\n",
       "    </tr>\n",
       "    <tr>\n",
       "      <th>aggregate_rating</th>\n",
       "      <td>50252.0</td>\n",
       "      <td>NaN</td>\n",
       "      <td>NaN</td>\n",
       "      <td>NaN</td>\n",
       "      <td>3.645907</td>\n",
       "      <td>0.510029</td>\n",
       "      <td>1.8</td>\n",
       "      <td>3.3</td>\n",
       "      <td>3.7</td>\n",
       "      <td>4.0</td>\n",
       "      <td>4.9</td>\n",
       "    </tr>\n",
       "    <tr>\n",
       "      <th>rating_text</th>\n",
       "      <td>50252</td>\n",
       "      <td>5</td>\n",
       "      <td>Good</td>\n",
       "      <td>18064</td>\n",
       "      <td>NaN</td>\n",
       "      <td>NaN</td>\n",
       "      <td>NaN</td>\n",
       "      <td>NaN</td>\n",
       "      <td>NaN</td>\n",
       "      <td>NaN</td>\n",
       "      <td>NaN</td>\n",
       "    </tr>\n",
       "    <tr>\n",
       "      <th>votes</th>\n",
       "      <td>50252.0</td>\n",
       "      <td>NaN</td>\n",
       "      <td>NaN</td>\n",
       "      <td>NaN</td>\n",
       "      <td>314.162461</td>\n",
       "      <td>787.888382</td>\n",
       "      <td>0.0</td>\n",
       "      <td>18.0</td>\n",
       "      <td>71.0</td>\n",
       "      <td>279.0</td>\n",
       "      <td>42539.0</td>\n",
       "    </tr>\n",
       "    <tr>\n",
       "      <th>photo_count</th>\n",
       "      <td>50252.0</td>\n",
       "      <td>NaN</td>\n",
       "      <td>NaN</td>\n",
       "      <td>NaN</td>\n",
       "      <td>232.843986</td>\n",
       "      <td>763.954623</td>\n",
       "      <td>0.0</td>\n",
       "      <td>4.0</td>\n",
       "      <td>20.0</td>\n",
       "      <td>121.0</td>\n",
       "      <td>17702.0</td>\n",
       "    </tr>\n",
       "    <tr>\n",
       "      <th>delivery</th>\n",
       "      <td>50252.0</td>\n",
       "      <td>NaN</td>\n",
       "      <td>NaN</td>\n",
       "      <td>NaN</td>\n",
       "      <td>-0.293043</td>\n",
       "      <td>0.95319</td>\n",
       "      <td>-1.0</td>\n",
       "      <td>-1.0</td>\n",
       "      <td>-1.0</td>\n",
       "      <td>1.0</td>\n",
       "      <td>1.0</td>\n",
       "    </tr>\n",
       "    <tr>\n",
       "      <th>region</th>\n",
       "      <td>50252</td>\n",
       "      <td>3390</td>\n",
       "      <td>Civil Lines</td>\n",
       "      <td>688</td>\n",
       "      <td>NaN</td>\n",
       "      <td>NaN</td>\n",
       "      <td>NaN</td>\n",
       "      <td>NaN</td>\n",
       "      <td>NaN</td>\n",
       "      <td>NaN</td>\n",
       "      <td>NaN</td>\n",
       "    </tr>\n",
       "    <tr>\n",
       "      <th>num_cuisines</th>\n",
       "      <td>50252.0</td>\n",
       "      <td>NaN</td>\n",
       "      <td>NaN</td>\n",
       "      <td>NaN</td>\n",
       "      <td>2.413496</td>\n",
       "      <td>1.39904</td>\n",
       "      <td>1.0</td>\n",
       "      <td>1.0</td>\n",
       "      <td>2.0</td>\n",
       "      <td>3.0</td>\n",
       "      <td>8.0</td>\n",
       "    </tr>\n",
       "  </tbody>\n",
       "</table>\n",
       "</div>"
      ],
      "text/plain": [
       "                        count unique  \\\n",
       "res_id                50252.0    NaN   \n",
       "name                    50252  32998   \n",
       "establishment           50252     27   \n",
       "url                     50252  45510   \n",
       "address                 50248  42222   \n",
       "city                    50252     98   \n",
       "city_id               50252.0   <NA>   \n",
       "locality                50252   3588   \n",
       "latitude              50252.0    NaN   \n",
       "longitude             50252.0    NaN   \n",
       "zipcode                 50252   1266   \n",
       "locality_verbose        50252   3761   \n",
       "cuisines                50252   8776   \n",
       "timings                 50252   7219   \n",
       "average_cost_for_two  50252.0    NaN   \n",
       "price_range           50252.0    NaN   \n",
       "highlights              50252  28462   \n",
       "aggregate_rating      50252.0    NaN   \n",
       "rating_text             50252      5   \n",
       "votes                 50252.0    NaN   \n",
       "photo_count           50252.0    NaN   \n",
       "delivery              50252.0    NaN   \n",
       "region                  50252   3390   \n",
       "num_cuisines          50252.0    NaN   \n",
       "\n",
       "                                                                                                                      top  \\\n",
       "res_id                                                                                                                NaN   \n",
       "name                                                                                                        Dominos Pizza   \n",
       "establishment                                                                                                 Quick Bites   \n",
       "url                   https://www.zomato.com/mumbai/candy-and-green-breach-candy?utm_source=api_basic_user&utm_medium=...   \n",
       "address                                                                              Manu Temple Road, Old Manali, Manali   \n",
       "city                                                                                                              Chennai   \n",
       "city_id                                                                                                              <NA>   \n",
       "locality                                                                                                      Civil Lines   \n",
       "latitude                                                                                                              NaN   \n",
       "longitude                                                                                                             NaN   \n",
       "zipcode                                                                                                               nan   \n",
       "locality_verbose                                                                                     Gomti Nagar, Lucknow   \n",
       "cuisines                                                                                                     North Indian   \n",
       "timings                                                                                                    11 AM to 11 PM   \n",
       "average_cost_for_two                                                                                                  NaN   \n",
       "price_range                                                                                                           NaN   \n",
       "highlights                                                        Dinner, Takeaway Available, Lunch, Cash, Indoor Seating   \n",
       "aggregate_rating                                                                                                      NaN   \n",
       "rating_text                                                                                                          Good   \n",
       "votes                                                                                                                 NaN   \n",
       "photo_count                                                                                                           NaN   \n",
       "delivery                                                                                                              NaN   \n",
       "region                                                                                                        Civil Lines   \n",
       "num_cuisines                                                                                                          NaN   \n",
       "\n",
       "                       freq            mean             std   min        25%         50%  \\\n",
       "res_id                  NaN  12225808.40866  8395809.765715  50.0  2500676.5  18591107.0   \n",
       "name                    409             NaN             NaN   NaN        NaN         NaN   \n",
       "establishment         13363             NaN             NaN   NaN        NaN         NaN   \n",
       "url                       9             NaN             NaN   NaN        NaN         NaN   \n",
       "address                  18             NaN             NaN   NaN        NaN         NaN   \n",
       "city                   2515             NaN             NaN   NaN        NaN         NaN   \n",
       "city_id                <NA>     2879.980399     4911.845786   1.0        7.0        22.0   \n",
       "locality                688             NaN             NaN   NaN        NaN         NaN   \n",
       "latitude                NaN       21.516597       45.003485   0.0  16.523465   22.317663   \n",
       "longitude               NaN       77.120065         8.46713   0.0  74.787353   77.172221   \n",
       "zipcode               37997             NaN             NaN   NaN        NaN         NaN   \n",
       "locality_verbose        287             NaN             NaN   NaN        NaN         NaN   \n",
       "cuisines               3560             NaN             NaN   NaN        NaN         NaN   \n",
       "timings                6296             NaN             NaN   NaN        NaN         NaN   \n",
       "average_cost_for_two    NaN      585.811769      624.492011   0.0      250.0       400.0   \n",
       "price_range             NaN        1.805043        0.896763   1.0        1.0         2.0   \n",
       "highlights              679             NaN             NaN   NaN        NaN         NaN   \n",
       "aggregate_rating        NaN        3.645907        0.510029   1.8        3.3         3.7   \n",
       "rating_text           18064             NaN             NaN   NaN        NaN         NaN   \n",
       "votes                   NaN      314.162461      787.888382   0.0       18.0        71.0   \n",
       "photo_count             NaN      232.843986      763.954623   0.0        4.0        20.0   \n",
       "delivery                NaN       -0.293043         0.95319  -1.0       -1.0        -1.0   \n",
       "region                  688             NaN             NaN   NaN        NaN         NaN   \n",
       "num_cuisines            NaN        2.413496         1.39904   1.0        1.0         2.0   \n",
       "\n",
       "                             75%         max  \n",
       "res_id                18789429.0  19156191.0  \n",
       "name                         NaN         NaN  \n",
       "establishment                NaN         NaN  \n",
       "url                          NaN         NaN  \n",
       "address                      NaN         NaN  \n",
       "city                         NaN         NaN  \n",
       "city_id                  11054.0     11354.0  \n",
       "locality                     NaN         NaN  \n",
       "latitude               26.743472     10000.0  \n",
       "longitude              80.147483   91.832769  \n",
       "zipcode                      NaN         NaN  \n",
       "locality_verbose             NaN         NaN  \n",
       "cuisines                     NaN         NaN  \n",
       "timings                      NaN         NaN  \n",
       "average_cost_for_two       700.0     30000.0  \n",
       "price_range                  2.0         4.0  \n",
       "highlights                   NaN         NaN  \n",
       "aggregate_rating             4.0         4.9  \n",
       "rating_text                  NaN         NaN  \n",
       "votes                      279.0     42539.0  \n",
       "photo_count                121.0     17702.0  \n",
       "delivery                     1.0         1.0  \n",
       "region                       NaN         NaN  \n",
       "num_cuisines                 3.0         8.0  "
      ]
     },
     "execution_count": 1104,
     "metadata": {},
     "output_type": "execute_result"
    }
   ],
   "source": [
    "data_cleaned.describe(include='all').T"
   ]
  },
  {
   "cell_type": "markdown",
   "metadata": {
    "id": "8TRu4KG2Rkss"
   },
   "source": [
    "<a id = 'correlation'> </a>\n",
    "## 7. Study correlation"
   ]
  },
  {
   "cell_type": "code",
   "execution_count": 998,
   "metadata": {},
   "outputs": [
    {
     "data": {
      "image/png": "[encoded data removed]",
      "text/plain": [
       "<Figure size 1000x800 with 2 Axes>"
      ]
     },
     "metadata": {},
     "output_type": "display_data"
    }
   ],
   "source": [
    "plt.figure(figsize=(10, 8))  # Adjust the figure size as needed\n",
    "sns.heatmap(corr, annot=True, cmap='coolwarm')\n",
    "plt.title('Correlation Matrix')\n",
    "plt.show()"
   ]
  },
  {
   "cell_type": "markdown",
   "metadata": {
    "id": "84UCg7jHRksu"
   },
   "source": [
    "<a id='outliers'> </a>\n",
    "## 8. Detect outliers"
   ]
  },
  {
   "cell_type": "markdown",
   "metadata": {},
   "source": [
    "**1. Plot the boxplot for numeric data**"
   ]
  },
  {
   "cell_type": "code",
   "execution_count": 1002,
   "metadata": {},
   "outputs": [
    {
     "data": {
      "image/png": "[encoded data removed]",
      "text/plain": [
       "<Figure size 1000x500 with 1 Axes>"
      ]
     },
     "metadata": {},
     "output_type": "display_data"
    }
   ],
   "source": [
    "plt.figure(figsize=(10,5))\n",
    "sns.boxplot(data_cleaned,x='average_cost_for_two')\n",
    "plt.show()"
   ]
  },
  {
   "cell_type": "code",
   "execution_count": 1003,
   "metadata": {},
   "outputs": [
    {
     "data": {
      "image/png": "[encoded data removed]",
      "text/plain": [
       "<Figure size 1000x500 with 1 Axes>"
      ]
     },
     "metadata": {},
     "output_type": "display_data"
    }
   ],
   "source": [
    "plt.figure(figsize=(10,5))\n",
    "sns.boxplot(data_cleaned,x='aggregate_rating')\n",
    "plt.show()"
   ]
  },
  {
   "cell_type": "code",
   "execution_count": 1006,
   "metadata": {},
   "outputs": [
    {
     "data": {
      "image/png": "[encoded data removed]",
      "text/plain": [
       "<Figure size 1000x500 with 1 Axes>"
      ]
     },
     "metadata": {},
     "output_type": "display_data"
    }
   ],
   "source": [
    "plt.figure(figsize=(10,5))\n",
    "sns.boxplot(data_cleaned,x='votes')\n",
    "plt.show()"
   ]
  },
  {
   "cell_type": "code",
   "execution_count": null,
   "metadata": {},
   "outputs": [],
   "source": []
  },
  {
   "cell_type": "markdown",
   "metadata": {
    "id": "8KsQfmNaRksv"
   },
   "source": [
    "**2. Note the variables for which outliers are present**"
   ]
  },
  {
   "cell_type": "code",
   "execution_count": 1010,
   "metadata": {},
   "outputs": [],
   "source": [
    "def remove_outliers(df, column):\n",
    "    Q1 = df[column].quantile(0.25)\n",
    "    Q3 = df[column].quantile(0.75)\n",
    "    IQR = Q3 - Q1\n",
    "    lower_bound = Q1 - 1.5 * IQR\n",
    "    upper_bound = Q3 + 1.5 * IQR\n",
    "\n",
    "    return df[(df[column] >= lower_bound) & (df[column] <= upper_bound)]\n",
    "\n",
    "data_cleaned = remove_outliers(data_cleaned, 'aggregate_rating')"
   ]
  },
  {
   "cell_type": "code",
   "execution_count": 1012,
   "metadata": {},
   "outputs": [
    {
     "data": {
      "text/plain": [
       "(50252, 22)"
      ]
     },
     "execution_count": 1012,
     "metadata": {},
     "output_type": "execute_result"
    }
   ],
   "source": [
    "data_cleaned.shape"
   ]
  },
  {
   "cell_type": "markdown",
   "metadata": {
    "id": "BhlgmGZoRksw"
   },
   "source": [
    "**3. Plot the boxplot to recheck for outliers**"
   ]
  },
  {
   "cell_type": "code",
   "execution_count": 1015,
   "metadata": {
    "id": "2ZmatCI-ebos",
    "outputId": "38229e72-93c9-42ab-d048-fd685c3e384d"
   },
   "outputs": [
    {
     "data": {
      "image/png": "[encoded data removed]",
      "text/plain": [
       "<Figure size 1500x600 with 2 Axes>"
      ]
     },
     "metadata": {},
     "output_type": "display_data"
    }
   ],
   "source": [
    "# Visualizing the distribution of 'aggregate_rating' and 'price_range'\n",
    "fig, ax = plt.subplots(1, 2, figsize=(15, 6))\n",
    "sns.histplot(data_cleaned['aggregate_rating'], kde=True, ax=ax[0])\n",
    "ax[0].set_title('Distribution of Aggregate Rating')\n",
    "sns.boxplot(data_cleaned['aggregate_rating'], ax=ax[1])\n",
    "ax[1].set_title('Distribution of Aggregate Rating')\n",
    "plt.tight_layout()\n",
    "plt.show()"
   ]
  },
  {
   "cell_type": "markdown",
   "metadata": {
    "id": "6FT7miDFRksx"
   },
   "source": [
    "<a id='region'> </a>\n",
    "## 9. Create a new variable 'region'\n"
   ]
  },
  {
   "cell_type": "code",
   "execution_count": 1018,
   "metadata": {},
   "outputs": [],
   "source": [
    "data_cleaned['region'] = data_cleaned['locality_verbose'].apply(lambda x: x.split(',')[0])"
   ]
  },
  {
   "cell_type": "code",
   "execution_count": 1020,
   "metadata": {},
   "outputs": [
    {
     "data": {
      "text/html": [
       "<div>\n",
       "<style scoped>\n",
       "    .dataframe tbody tr th:only-of-type {\n",
       "        vertical-align: middle;\n",
       "    }\n",
       "\n",
       "    .dataframe tbody tr th {\n",
       "        vertical-align: top;\n",
       "    }\n",
       "\n",
       "    .dataframe thead th {\n",
       "        text-align: right;\n",
       "    }\n",
       "</style>\n",
       "<table border=\"1\" class=\"dataframe\">\n",
       "  <thead>\n",
       "    <tr style=\"text-align: right;\">\n",
       "      <th></th>\n",
       "      <th>res_id</th>\n",
       "      <th>name</th>\n",
       "      <th>establishment</th>\n",
       "      <th>url</th>\n",
       "      <th>address</th>\n",
       "      <th>city</th>\n",
       "      <th>city_id</th>\n",
       "      <th>locality</th>\n",
       "      <th>latitude</th>\n",
       "      <th>longitude</th>\n",
       "      <th>zipcode</th>\n",
       "      <th>locality_verbose</th>\n",
       "      <th>cuisines</th>\n",
       "      <th>timings</th>\n",
       "      <th>average_cost_for_two</th>\n",
       "      <th>price_range</th>\n",
       "      <th>highlights</th>\n",
       "      <th>aggregate_rating</th>\n",
       "      <th>rating_text</th>\n",
       "      <th>votes</th>\n",
       "      <th>photo_count</th>\n",
       "      <th>delivery</th>\n",
       "      <th>region</th>\n",
       "    </tr>\n",
       "  </thead>\n",
       "  <tbody>\n",
       "    <tr>\n",
       "      <th>0</th>\n",
       "      <td>3400299</td>\n",
       "      <td>Bikanervala</td>\n",
       "      <td>Quick Bites</td>\n",
       "      <td>https://www.zomato.com/agra/bikanervala-khandari?utm_source=api_basic_user&amp;utm_medium=api&amp;utm_ca...</td>\n",
       "      <td>Kalyani Point, Near Tulsi Cinema, Bypass Road, Khandari, Agra</td>\n",
       "      <td>Agra</td>\n",
       "      <td>34</td>\n",
       "      <td>Khandari</td>\n",
       "      <td>27.211450</td>\n",
       "      <td>78.002381</td>\n",
       "      <td>nan</td>\n",
       "      <td>Khandari, Agra</td>\n",
       "      <td>North Indian, South Indian, Mithai, Street Food, Desserts</td>\n",
       "      <td>8:30am – 10:30pm (Mon-Sun)</td>\n",
       "      <td>700</td>\n",
       "      <td>2</td>\n",
       "      <td>Lunch, Takeaway Available, Credit Card, Dinner, Cash, Air Conditioned, Indoor Seating, Pure Veg</td>\n",
       "      <td>4.4</td>\n",
       "      <td>Very Good</td>\n",
       "      <td>814</td>\n",
       "      <td>154</td>\n",
       "      <td>-1</td>\n",
       "      <td>Khandari</td>\n",
       "    </tr>\n",
       "    <tr>\n",
       "      <th>1</th>\n",
       "      <td>3400005</td>\n",
       "      <td>Mama Chicken Mama Franky House</td>\n",
       "      <td>Quick Bites</td>\n",
       "      <td>https://www.zomato.com/agra/mama-chicken-mama-franky-house-agra-cantt?utm_source=api_basic_user&amp;...</td>\n",
       "      <td>Main Market, Sadar Bazaar, Agra Cantt, Agra</td>\n",
       "      <td>Agra</td>\n",
       "      <td>34</td>\n",
       "      <td>Agra Cantt</td>\n",
       "      <td>27.160569</td>\n",
       "      <td>78.011583</td>\n",
       "      <td>282001</td>\n",
       "      <td>Agra Cantt, Agra</td>\n",
       "      <td>North Indian, Mughlai, Rolls, Chinese, Fast Food, Street Food</td>\n",
       "      <td>12:30PM to 12Midnight (Mon, Wed, Thu, Fri, Sat, Sun), 1PM to 12Midnight (Tue)</td>\n",
       "      <td>600</td>\n",
       "      <td>2</td>\n",
       "      <td>Delivery, No Alcohol Available, Dinner, Takeaway Available, Lunch, Cash, Indoor Seating</td>\n",
       "      <td>4.4</td>\n",
       "      <td>Very Good</td>\n",
       "      <td>1203</td>\n",
       "      <td>161</td>\n",
       "      <td>-1</td>\n",
       "      <td>Agra Cantt</td>\n",
       "    </tr>\n",
       "    <tr>\n",
       "      <th>2</th>\n",
       "      <td>3401013</td>\n",
       "      <td>Bhagat Halwai</td>\n",
       "      <td>Quick Bites</td>\n",
       "      <td>https://www.zomato.com/agra/bhagat-halwai-2-shahganj?utm_source=api_basic_user&amp;utm_medium=api&amp;ut...</td>\n",
       "      <td>62/1, Near Easy Day, West Shivaji Nagar, Goalpura, Shahganj</td>\n",
       "      <td>Agra</td>\n",
       "      <td>34</td>\n",
       "      <td>Shahganj</td>\n",
       "      <td>27.182938</td>\n",
       "      <td>77.979684</td>\n",
       "      <td>282010</td>\n",
       "      <td>Shahganj, Agra</td>\n",
       "      <td>Fast Food, Mithai</td>\n",
       "      <td>9:30 AM to 11 PM</td>\n",
       "      <td>300</td>\n",
       "      <td>1</td>\n",
       "      <td>No Alcohol Available, Dinner, Takeaway Available, Breakfast, Lunch, Cash, Delivery, Outdoor Seat...</td>\n",
       "      <td>4.2</td>\n",
       "      <td>Very Good</td>\n",
       "      <td>801</td>\n",
       "      <td>107</td>\n",
       "      <td>1</td>\n",
       "      <td>Shahganj</td>\n",
       "    </tr>\n",
       "    <tr>\n",
       "      <th>3</th>\n",
       "      <td>3400290</td>\n",
       "      <td>Bhagat Halwai</td>\n",
       "      <td>Quick Bites</td>\n",
       "      <td>https://www.zomato.com/agra/bhagat-halwai-civil-lines?utm_source=api_basic_user&amp;utm_medium=api&amp;u...</td>\n",
       "      <td>Near Anjana Cinema, Nehru Nagar, Civil Lines, Agra</td>\n",
       "      <td>Agra</td>\n",
       "      <td>34</td>\n",
       "      <td>Civil Lines</td>\n",
       "      <td>27.205668</td>\n",
       "      <td>78.004799</td>\n",
       "      <td>282002</td>\n",
       "      <td>Civil Lines, Agra</td>\n",
       "      <td>Desserts, Bakery, Fast Food, South Indian</td>\n",
       "      <td>8am – 11pm (Mon-Sun)</td>\n",
       "      <td>300</td>\n",
       "      <td>1</td>\n",
       "      <td>Takeaway Available, Credit Card, Lunch, Delivery, Breakfast, Dinner, Smoking Area, Dance Floor, ...</td>\n",
       "      <td>4.3</td>\n",
       "      <td>Very Good</td>\n",
       "      <td>693</td>\n",
       "      <td>157</td>\n",
       "      <td>1</td>\n",
       "      <td>Civil Lines</td>\n",
       "    </tr>\n",
       "    <tr>\n",
       "      <th>4</th>\n",
       "      <td>3401744</td>\n",
       "      <td>The Salt Cafe Kitchen &amp; Bar</td>\n",
       "      <td>Casual Dining</td>\n",
       "      <td>https://www.zomato.com/agra/the-salt-cafe-kitchen-bar-tajganj?utm_source=api_basic_user&amp;utm_medi...</td>\n",
       "      <td>1C,3rd Floor, Fatehabad Road, Tajganj, Agra</td>\n",
       "      <td>Agra</td>\n",
       "      <td>34</td>\n",
       "      <td>Tajganj</td>\n",
       "      <td>27.157709</td>\n",
       "      <td>78.052421</td>\n",
       "      <td>nan</td>\n",
       "      <td>Tajganj, Agra</td>\n",
       "      <td>North Indian, Continental, Italian</td>\n",
       "      <td>11:30 AM to 11:30 PM</td>\n",
       "      <td>1000</td>\n",
       "      <td>3</td>\n",
       "      <td>Lunch, Serves Alcohol, Cash, Credit Card, Dinner, Debit Card, Wine, Live Music, Rooftop, Digital...</td>\n",
       "      <td>4.9</td>\n",
       "      <td>Excellent</td>\n",
       "      <td>470</td>\n",
       "      <td>291</td>\n",
       "      <td>1</td>\n",
       "      <td>Tajganj</td>\n",
       "    </tr>\n",
       "  </tbody>\n",
       "</table>\n",
       "</div>"
      ],
      "text/plain": [
       "    res_id                            name  establishment  \\\n",
       "0  3400299                     Bikanervala    Quick Bites   \n",
       "1  3400005  Mama Chicken Mama Franky House    Quick Bites   \n",
       "2  3401013                   Bhagat Halwai    Quick Bites   \n",
       "3  3400290                   Bhagat Halwai    Quick Bites   \n",
       "4  3401744     The Salt Cafe Kitchen & Bar  Casual Dining   \n",
       "\n",
       "                                                                                                   url  \\\n",
       "0  https://www.zomato.com/agra/bikanervala-khandari?utm_source=api_basic_user&utm_medium=api&utm_ca...   \n",
       "1  https://www.zomato.com/agra/mama-chicken-mama-franky-house-agra-cantt?utm_source=api_basic_user&...   \n",
       "2  https://www.zomato.com/agra/bhagat-halwai-2-shahganj?utm_source=api_basic_user&utm_medium=api&ut...   \n",
       "3  https://www.zomato.com/agra/bhagat-halwai-civil-lines?utm_source=api_basic_user&utm_medium=api&u...   \n",
       "4  https://www.zomato.com/agra/the-salt-cafe-kitchen-bar-tajganj?utm_source=api_basic_user&utm_medi...   \n",
       "\n",
       "                                                         address  city  city_id     locality  \\\n",
       "0  Kalyani Point, Near Tulsi Cinema, Bypass Road, Khandari, Agra  Agra       34     Khandari   \n",
       "1                    Main Market, Sadar Bazaar, Agra Cantt, Agra  Agra       34   Agra Cantt   \n",
       "2    62/1, Near Easy Day, West Shivaji Nagar, Goalpura, Shahganj  Agra       34     Shahganj   \n",
       "3             Near Anjana Cinema, Nehru Nagar, Civil Lines, Agra  Agra       34  Civil Lines   \n",
       "4                    1C,3rd Floor, Fatehabad Road, Tajganj, Agra  Agra       34      Tajganj   \n",
       "\n",
       "    latitude  longitude zipcode   locality_verbose  \\\n",
       "0  27.211450  78.002381     nan     Khandari, Agra   \n",
       "1  27.160569  78.011583  282001   Agra Cantt, Agra   \n",
       "2  27.182938  77.979684  282010     Shahganj, Agra   \n",
       "3  27.205668  78.004799  282002  Civil Lines, Agra   \n",
       "4  27.157709  78.052421     nan      Tajganj, Agra   \n",
       "\n",
       "                                                        cuisines  \\\n",
       "0      North Indian, South Indian, Mithai, Street Food, Desserts   \n",
       "1  North Indian, Mughlai, Rolls, Chinese, Fast Food, Street Food   \n",
       "2                                              Fast Food, Mithai   \n",
       "3                      Desserts, Bakery, Fast Food, South Indian   \n",
       "4                             North Indian, Continental, Italian   \n",
       "\n",
       "                                                                         timings  \\\n",
       "0                                                     8:30am – 10:30pm (Mon-Sun)   \n",
       "1  12:30PM to 12Midnight (Mon, Wed, Thu, Fri, Sat, Sun), 1PM to 12Midnight (Tue)   \n",
       "2                                                               9:30 AM to 11 PM   \n",
       "3                                                           8am – 11pm (Mon-Sun)   \n",
       "4                                                           11:30 AM to 11:30 PM   \n",
       "\n",
       "   average_cost_for_two  price_range  \\\n",
       "0                   700            2   \n",
       "1                   600            2   \n",
       "2                   300            1   \n",
       "3                   300            1   \n",
       "4                  1000            3   \n",
       "\n",
       "                                                                                            highlights  \\\n",
       "0      Lunch, Takeaway Available, Credit Card, Dinner, Cash, Air Conditioned, Indoor Seating, Pure Veg   \n",
       "1              Delivery, No Alcohol Available, Dinner, Takeaway Available, Lunch, Cash, Indoor Seating   \n",
       "2  No Alcohol Available, Dinner, Takeaway Available, Breakfast, Lunch, Cash, Delivery, Outdoor Seat...   \n",
       "3  Takeaway Available, Credit Card, Lunch, Delivery, Breakfast, Dinner, Smoking Area, Dance Floor, ...   \n",
       "4  Lunch, Serves Alcohol, Cash, Credit Card, Dinner, Debit Card, Wine, Live Music, Rooftop, Digital...   \n",
       "\n",
       "   aggregate_rating rating_text  votes  photo_count  delivery       region  \n",
       "0               4.4   Very Good    814          154        -1     Khandari  \n",
       "1               4.4   Very Good   1203          161        -1   Agra Cantt  \n",
       "2               4.2   Very Good    801          107         1     Shahganj  \n",
       "3               4.3   Very Good    693          157         1  Civil Lines  \n",
       "4               4.9   Excellent    470          291         1      Tajganj  "
      ]
     },
     "execution_count": 1020,
     "metadata": {},
     "output_type": "execute_result"
    }
   ],
   "source": [
    "data_cleaned.head()"
   ]
  },
  {
   "cell_type": "markdown",
   "metadata": {
    "id": "aI1_PyQyRksz"
   },
   "source": [
    "<a id='more'> </a>\n",
    "## 10. Bivariate and Multi Variate Analysis"
   ]
  },
  {
   "cell_type": "code",
   "execution_count": 1023,
   "metadata": {},
   "outputs": [],
   "source": [
    "# Top 10 Chains outlets\n",
    "chains = data_cleaned['name'].value_counts().head(10).reset_index()"
   ]
  },
  {
   "cell_type": "code",
   "execution_count": 1025,
   "metadata": {},
   "outputs": [
    {
     "data": {
      "image/png": "[encoded data removed]",
      "text/plain": [
       "<Figure size 1000x800 with 1 Axes>"
      ]
     },
     "metadata": {},
     "output_type": "display_data"
    }
   ],
   "source": [
    "#top 10 outlets\n",
    "plt.figure(figsize=(10,8))\n",
    "sns.barplot(chains,x='name',y='count',palette='coolwarm')\n",
    "plt.xticks(rotation=90,fontsize = 10)\n",
    "plt.tight_layout()\n",
    "plt.xlabel('Name of restarent')\n",
    "plt.ylabel('Number of restarent')\n",
    "plt.show()"
   ]
  },
  {
   "cell_type": "code",
   "execution_count": 1026,
   "metadata": {},
   "outputs": [],
   "source": [
    "# Top 10 cuisines\n",
    "df_rest_type = data_cleaned['cuisines'].str.split(', ')\n",
    "types_cuisines = df_rest_type.explode()"
   ]
  },
  {
   "cell_type": "code",
   "execution_count": 1029,
   "metadata": {},
   "outputs": [],
   "source": [
    "types_cuisines_top10 = pd.DataFrame(types_cuisines).value_counts().reset_index().head(10)"
   ]
  },
  {
   "cell_type": "code",
   "execution_count": 1031,
   "metadata": {},
   "outputs": [
    {
     "data": {
      "image/png": "[encoded data removed]",
      "text/plain": [
       "<Figure size 1000x800 with 1 Axes>"
      ]
     },
     "metadata": {},
     "output_type": "display_data"
    }
   ],
   "source": [
    "plt.figure(figsize=(10,8))\n",
    "sns.barplot(types_cuisines_top10,x='cuisines',y='count',palette='Blues')\n",
    "plt.xticks(rotation=90,fontsize = 10)\n",
    "plt.tight_layout()\n",
    "plt.xlabel('Name of restarent')\n",
    "plt.ylabel('Number of restarent')\n",
    "plt.show()"
   ]
  },
  {
   "cell_type": "code",
   "execution_count": 1032,
   "metadata": {},
   "outputs": [],
   "source": [
    "# Number of restaurants by top city\n",
    "top_cities = pd.DataFrame(data_cleaned['city'].value_counts().head(10)).reset_index().head(10)"
   ]
  },
  {
   "cell_type": "code",
   "execution_count": 1033,
   "metadata": {},
   "outputs": [
    {
     "data": {
      "image/png": "[encoded data removed]",
      "text/plain": [
       "<Figure size 1000x800 with 1 Axes>"
      ]
     },
     "metadata": {},
     "output_type": "display_data"
    }
   ],
   "source": [
    "plt.figure(figsize=(10,8))\n",
    "sns.barplot(top_cities,x='city',y='count',palette='viridis')\n",
    "plt.xticks(rotation=90,fontsize = 10)\n",
    "plt.tight_layout()\n",
    "plt.xlabel('Name of restarent')\n",
    "plt.ylabel('Number of restarent')\n",
    "plt.show()"
   ]
  },
  {
   "cell_type": "code",
   "execution_count": 1036,
   "metadata": {},
   "outputs": [],
   "source": [
    "# Number of restaurent by price range"
   ]
  },
  {
   "cell_type": "code",
   "execution_count": 1037,
   "metadata": {},
   "outputs": [],
   "source": [
    "price_range = data_cleaned['price_range'].value_counts().reset_index()"
   ]
  },
  {
   "cell_type": "code",
   "execution_count": 1038,
   "metadata": {},
   "outputs": [
    {
     "data": {
      "image/png": "[encoded data removed]",
      "text/plain": [
       "<Figure size 1000x800 with 1 Axes>"
      ]
     },
     "metadata": {},
     "output_type": "display_data"
    }
   ],
   "source": [
    "plt.figure(figsize=(10,8))\n",
    "sns.barplot(price_range,x='price_range',y='count',palette='viridis')\n",
    "plt.xticks(rotation=90,fontsize = 10)\n",
    "plt.tight_layout()\n",
    "plt.xlabel('Name of restarent')\n",
    "plt.ylabel('Number of restarent')\n",
    "plt.show()"
   ]
  },
  {
   "cell_type": "code",
   "execution_count": 1039,
   "metadata": {},
   "outputs": [
    {
     "data": {
      "text/html": [
       "<div>\n",
       "<style scoped>\n",
       "    .dataframe tbody tr th:only-of-type {\n",
       "        vertical-align: middle;\n",
       "    }\n",
       "\n",
       "    .dataframe tbody tr th {\n",
       "        vertical-align: top;\n",
       "    }\n",
       "\n",
       "    .dataframe thead th {\n",
       "        text-align: right;\n",
       "    }\n",
       "</style>\n",
       "<table border=\"1\" class=\"dataframe\">\n",
       "  <thead>\n",
       "    <tr style=\"text-align: right;\">\n",
       "      <th></th>\n",
       "      <th>city</th>\n",
       "      <th>aggregate_rating</th>\n",
       "    </tr>\n",
       "  </thead>\n",
       "  <tbody>\n",
       "    <tr>\n",
       "      <th>26</th>\n",
       "      <td>Gurgaon</td>\n",
       "      <td>3.974109</td>\n",
       "    </tr>\n",
       "    <tr>\n",
       "      <th>56</th>\n",
       "      <td>Mumbai</td>\n",
       "      <td>3.971105</td>\n",
       "    </tr>\n",
       "    <tr>\n",
       "      <th>8</th>\n",
       "      <td>Bangalore</td>\n",
       "      <td>3.962534</td>\n",
       "    </tr>\n",
       "    <tr>\n",
       "      <th>65</th>\n",
       "      <td>New Delhi</td>\n",
       "      <td>3.940690</td>\n",
       "    </tr>\n",
       "    <tr>\n",
       "      <th>46</th>\n",
       "      <td>Kolkata</td>\n",
       "      <td>3.885474</td>\n",
       "    </tr>\n",
       "    <tr>\n",
       "      <th>80</th>\n",
       "      <td>Secunderabad</td>\n",
       "      <td>3.848454</td>\n",
       "    </tr>\n",
       "    <tr>\n",
       "      <th>41</th>\n",
       "      <td>Junagadh</td>\n",
       "      <td>3.845455</td>\n",
       "    </tr>\n",
       "    <tr>\n",
       "      <th>31</th>\n",
       "      <td>Hyderabad</td>\n",
       "      <td>3.837793</td>\n",
       "    </tr>\n",
       "    <tr>\n",
       "      <th>85</th>\n",
       "      <td>Thane</td>\n",
       "      <td>3.820578</td>\n",
       "    </tr>\n",
       "    <tr>\n",
       "      <th>12</th>\n",
       "      <td>Chennai</td>\n",
       "      <td>3.809225</td>\n",
       "    </tr>\n",
       "  </tbody>\n",
       "</table>\n",
       "</div>"
      ],
      "text/plain": [
       "            city  aggregate_rating\n",
       "26       Gurgaon          3.974109\n",
       "56        Mumbai          3.971105\n",
       "8      Bangalore          3.962534\n",
       "65     New Delhi          3.940690\n",
       "46       Kolkata          3.885474\n",
       "80  Secunderabad          3.848454\n",
       "41      Junagadh          3.845455\n",
       "31     Hyderabad          3.837793\n",
       "85         Thane          3.820578\n",
       "12       Chennai          3.809225"
      ]
     },
     "execution_count": 1039,
     "metadata": {},
     "output_type": "execute_result"
    }
   ],
   "source": [
    "# Average restaurent rating by city top 10\n",
    "avg_rating_by_city = pd.pivot_table(data_cleaned,index='city',values ='aggregate_rating',aggfunc='mean').reset_index().sort_values('aggregate_rating',ascending= False)\n",
    "avg_rating_by_city.head(10)"
   ]
  },
  {
   "cell_type": "code",
   "execution_count": 1040,
   "metadata": {},
   "outputs": [
    {
     "data": {
      "image/png": "[encoded data removed]",
      "text/plain": [
       "<Figure size 1000x500 with 1 Axes>"
      ]
     },
     "metadata": {},
     "output_type": "display_data"
    }
   ],
   "source": [
    "plt.figure(figsize=(10,5))\n",
    "sns.barplot(avg_rating_by_city.head(10),y='city',x='aggregate_rating',color='skyblue')\n",
    "plt.title('Average Restaurant Ratings by City (top 10)')\n",
    "plt.xlabel('Average Rating')\n",
    "plt.ylabel('City')\n",
    "plt.show()"
   ]
  },
  {
   "cell_type": "code",
   "execution_count": 1041,
   "metadata": {},
   "outputs": [
    {
     "data": {
      "image/png": "[encoded data removed]",
      "text/plain": [
       "<Figure size 1000x500 with 1 Axes>"
      ]
     },
     "metadata": {},
     "output_type": "display_data"
    }
   ],
   "source": [
    "plt.figure(figsize=(10,5))\n",
    "sns.barplot(avg_rating_by_city.tail(10),y='city',x='aggregate_rating',color='skyblue')\n",
    "plt.title('Average Restaurant Ratings by City (bottom 10)')\n",
    "plt.xlabel('Average Rating')\n",
    "plt.ylabel('City')\n",
    "plt.show()"
   ]
  },
  {
   "cell_type": "code",
   "execution_count": 1042,
   "metadata": {},
   "outputs": [],
   "source": [
    "# Number of cuisines vs restaurent rating\n",
    "df_rest_type = data_cleaned['cuisines'].str.split(', ')\n",
    "types_cuisines = df_rest_type.explode()\n",
    "\n",
    "data_cleaned['num_cuisines'] = df_rest_type.str.len()"
   ]
  },
  {
   "cell_type": "code",
   "execution_count": 1045,
   "metadata": {},
   "outputs": [
    {
     "data": {
      "image/png": "[encoded data removed]",
      "text/plain": [
       "<Figure size 1200x600 with 1 Axes>"
      ]
     },
     "metadata": {},
     "output_type": "display_data"
    }
   ],
   "source": [
    "plt.figure(figsize=(12, 6))\n",
    "sns.scatterplot(data_cleaned,x='num_cuisines', y='aggregate_rating',color='teal')\n",
    "plt.title('Number of Cuisines vs Restaurant Rating')\n",
    "plt.xlabel('Number of Cuisines Offered')\n",
    "plt.ylabel('Restaurant Rating')\n",
    "plt.show()"
   ]
  },
  {
   "cell_type": "code",
   "execution_count": 1047,
   "metadata": {},
   "outputs": [
    {
     "data": {
      "text/html": [
       "<div>\n",
       "<style scoped>\n",
       "    .dataframe tbody tr th:only-of-type {\n",
       "        vertical-align: middle;\n",
       "    }\n",
       "\n",
       "    .dataframe tbody tr th {\n",
       "        vertical-align: top;\n",
       "    }\n",
       "\n",
       "    .dataframe thead th {\n",
       "        text-align: right;\n",
       "    }\n",
       "</style>\n",
       "<table border=\"1\" class=\"dataframe\">\n",
       "  <thead>\n",
       "    <tr style=\"text-align: right;\">\n",
       "      <th></th>\n",
       "      <th>price_range</th>\n",
       "      <th>aggregate_rating</th>\n",
       "    </tr>\n",
       "  </thead>\n",
       "  <tbody>\n",
       "    <tr>\n",
       "      <th>0</th>\n",
       "      <td>1</td>\n",
       "      <td>3.530689</td>\n",
       "    </tr>\n",
       "    <tr>\n",
       "      <th>1</th>\n",
       "      <td>2</td>\n",
       "      <td>3.651050</td>\n",
       "    </tr>\n",
       "    <tr>\n",
       "      <th>2</th>\n",
       "      <td>3</td>\n",
       "      <td>3.867809</td>\n",
       "    </tr>\n",
       "    <tr>\n",
       "      <th>3</th>\n",
       "      <td>4</td>\n",
       "      <td>3.954927</td>\n",
       "    </tr>\n",
       "  </tbody>\n",
       "</table>\n",
       "</div>"
      ],
      "text/plain": [
       "   price_range  aggregate_rating\n",
       "0            1          3.530689\n",
       "1            2          3.651050\n",
       "2            3          3.867809\n",
       "3            4          3.954927"
      ]
     },
     "execution_count": 1047,
     "metadata": {},
     "output_type": "execute_result"
    }
   ],
   "source": [
    "# Average restaurent rating by price range\n",
    "price_range_rating = pd.pivot_table(data_cleaned,index='price_range',values = 'aggregate_rating',aggfunc='mean').reset_index()\n",
    "price_range_rating"
   ]
  },
  {
   "cell_type": "code",
   "execution_count": 1050,
   "metadata": {},
   "outputs": [
    {
     "data": {
      "image/png": "[encoded data removed]",
      "text/plain": [
       "<Figure size 1000x600 with 1 Axes>"
      ]
     },
     "metadata": {},
     "output_type": "display_data"
    }
   ],
   "source": [
    "plt.figure(figsize=(10, 6))\n",
    "sns.barplot(x='price_range', y='aggregate_rating', data=price_range_rating, palette='viridis')\n",
    "plt.title('Average Restaurant Rating by Price Range')\n",
    "plt.xlabel('Price Range')\n",
    "plt.ylabel('Average Rating')\n",
    "plt.show()"
   ]
  },
  {
   "cell_type": "code",
   "execution_count": 1051,
   "metadata": {},
   "outputs": [
    {
     "data": {
      "text/html": [
       "<div>\n",
       "<style scoped>\n",
       "    .dataframe tbody tr th:only-of-type {\n",
       "        vertical-align: middle;\n",
       "    }\n",
       "\n",
       "    .dataframe tbody tr th {\n",
       "        vertical-align: top;\n",
       "    }\n",
       "\n",
       "    .dataframe thead th {\n",
       "        text-align: right;\n",
       "    }\n",
       "</style>\n",
       "<table border=\"1\" class=\"dataframe\">\n",
       "  <thead>\n",
       "    <tr style=\"text-align: right;\">\n",
       "      <th></th>\n",
       "      <th>price_range</th>\n",
       "      <th>average_cost_for_two</th>\n",
       "    </tr>\n",
       "  </thead>\n",
       "  <tbody>\n",
       "    <tr>\n",
       "      <th>0</th>\n",
       "      <td>1</td>\n",
       "      <td>234.910980</td>\n",
       "    </tr>\n",
       "    <tr>\n",
       "      <th>1</th>\n",
       "      <td>2</td>\n",
       "      <td>530.272991</td>\n",
       "    </tr>\n",
       "    <tr>\n",
       "      <th>2</th>\n",
       "      <td>3</td>\n",
       "      <td>1118.078296</td>\n",
       "    </tr>\n",
       "    <tr>\n",
       "      <th>3</th>\n",
       "      <td>4</td>\n",
       "      <td>2322.884347</td>\n",
       "    </tr>\n",
       "  </tbody>\n",
       "</table>\n",
       "</div>"
      ],
      "text/plain": [
       "   price_range  average_cost_for_two\n",
       "0            1            234.910980\n",
       "1            2            530.272991\n",
       "2            3           1118.078296\n",
       "3            4           2322.884347"
      ]
     },
     "execution_count": 1051,
     "metadata": {},
     "output_type": "execute_result"
    }
   ],
   "source": [
    "# Average cost for two people by price range\n",
    "price_range_avg_cost = pd.pivot_table(data_cleaned,index='price_range',values = 'average_cost_for_two',aggfunc='mean').reset_index()\n",
    "price_range_avg_cost"
   ]
  },
  {
   "cell_type": "code",
   "execution_count": 1052,
   "metadata": {},
   "outputs": [
    {
     "data": {
      "image/png": "[encoded data removed]",
      "text/plain": [
       "<Figure size 1000x600 with 1 Axes>"
      ]
     },
     "metadata": {},
     "output_type": "display_data"
    }
   ],
   "source": [
    "plt.figure(figsize=(10, 6))\n",
    "sns.barplot(x='price_range', y='average_cost_for_two', data=price_range_avg_cost, palette='viridis')\n",
    "plt.title('Average Restaurant Rating by Price Range')\n",
    "plt.xlabel('Price Range')\n",
    "plt.ylabel('Average Rating')\n",
    "plt.show()"
   ]
  },
  {
   "cell_type": "code",
   "execution_count": 1054,
   "metadata": {},
   "outputs": [
    {
     "data": {
      "image/png": "[encoded data removed]",
      "text/plain": [
       "<Figure size 1000x500 with 1 Axes>"
      ]
     },
     "metadata": {},
     "output_type": "display_data"
    }
   ],
   "source": [
    "# Rating vs average cost for two \n",
    "plt.figure(figsize=(10,5))\n",
    "sns.barplot(data_cleaned,x='rating_text',y='average_cost_for_two',color='skyblue')\n",
    "plt.title('Rating vs average cost for two')\n",
    "plt.xlabel('Rating')\n",
    "plt.ylabel('City')\n",
    "plt.show()"
   ]
  },
  {
   "cell_type": "code",
   "execution_count": 1098,
   "metadata": {},
   "outputs": [],
   "source": [
    "# Average rating for top restaurent chains\n",
    "\n",
    "top_chains_rating = pd.pivot_table(data_cleaned,index='name',values='aggregate_rating',aggfunc='mean').reset_index().sort_values(by ='aggregate_rating',ascending = False).head(20)"
   ]
  },
  {
   "cell_type": "code",
   "execution_count": 1100,
   "metadata": {},
   "outputs": [
    {
     "data": {
      "text/html": [
       "<div>\n",
       "<style scoped>\n",
       "    .dataframe tbody tr th:only-of-type {\n",
       "        vertical-align: middle;\n",
       "    }\n",
       "\n",
       "    .dataframe tbody tr th {\n",
       "        vertical-align: top;\n",
       "    }\n",
       "\n",
       "    .dataframe thead th {\n",
       "        text-align: right;\n",
       "    }\n",
       "</style>\n",
       "<table border=\"1\" class=\"dataframe\">\n",
       "  <thead>\n",
       "    <tr style=\"text-align: right;\">\n",
       "      <th></th>\n",
       "      <th>name</th>\n",
       "      <th>aggregate_rating</th>\n",
       "    </tr>\n",
       "  </thead>\n",
       "  <tbody>\n",
       "    <tr>\n",
       "      <th>27998</th>\n",
       "      <td>TG’s - The Oriental Grill - Hyatt</td>\n",
       "      <td>4.9</td>\n",
       "    </tr>\n",
       "    <tr>\n",
       "      <th>28996</th>\n",
       "      <td>The Cake Story (by Ocean Grill)</td>\n",
       "      <td>4.9</td>\n",
       "    </tr>\n",
       "    <tr>\n",
       "      <th>9311</th>\n",
       "      <td>Feel Alive</td>\n",
       "      <td>4.9</td>\n",
       "    </tr>\n",
       "    <tr>\n",
       "      <th>16452</th>\n",
       "      <td>Level 5 Bistro and Bar</td>\n",
       "      <td>4.9</td>\n",
       "    </tr>\n",
       "    <tr>\n",
       "      <th>29490</th>\n",
       "      <td>The Great Bear</td>\n",
       "      <td>4.9</td>\n",
       "    </tr>\n",
       "    <tr>\n",
       "      <th>14439</th>\n",
       "      <td>KAVERI Restaurant</td>\n",
       "      <td>4.9</td>\n",
       "    </tr>\n",
       "    <tr>\n",
       "      <th>32544</th>\n",
       "      <td>Yanki Sizzlers</td>\n",
       "      <td>4.9</td>\n",
       "    </tr>\n",
       "    <tr>\n",
       "      <th>5208</th>\n",
       "      <td>Cafe Paashh</td>\n",
       "      <td>4.9</td>\n",
       "    </tr>\n",
       "    <tr>\n",
       "      <th>16451</th>\n",
       "      <td>Level 5 - Terrace Restro &amp; Cafe</td>\n",
       "      <td>4.9</td>\n",
       "    </tr>\n",
       "    <tr>\n",
       "      <th>30306</th>\n",
       "      <td>The Sidewalk</td>\n",
       "      <td>4.9</td>\n",
       "    </tr>\n",
       "    <tr>\n",
       "      <th>2139</th>\n",
       "      <td>Asia Kitchen By Mainland China</td>\n",
       "      <td>4.9</td>\n",
       "    </tr>\n",
       "    <tr>\n",
       "      <th>4282</th>\n",
       "      <td>Brahmins Coffee Bar</td>\n",
       "      <td>4.9</td>\n",
       "    </tr>\n",
       "    <tr>\n",
       "      <th>18492</th>\n",
       "      <td>MoShiks Homemade Chocolates</td>\n",
       "      <td>4.9</td>\n",
       "    </tr>\n",
       "    <tr>\n",
       "      <th>14214</th>\n",
       "      <td>Joshi Dahi Bada House</td>\n",
       "      <td>4.9</td>\n",
       "    </tr>\n",
       "    <tr>\n",
       "      <th>10492</th>\n",
       "      <td>Girish Chandra Dey &amp; Nakur Chandra Nandy</td>\n",
       "      <td>4.9</td>\n",
       "    </tr>\n",
       "    <tr>\n",
       "      <th>32150</th>\n",
       "      <td>Walking Street</td>\n",
       "      <td>4.9</td>\n",
       "    </tr>\n",
       "    <tr>\n",
       "      <th>23633</th>\n",
       "      <td>Rocky Star Cocktail Bar</td>\n",
       "      <td>4.9</td>\n",
       "    </tr>\n",
       "    <tr>\n",
       "      <th>6695</th>\n",
       "      <td>Chool</td>\n",
       "      <td>4.9</td>\n",
       "    </tr>\n",
       "    <tr>\n",
       "      <th>32920</th>\n",
       "      <td>Zolocrust - Hotel Clarks Amer</td>\n",
       "      <td>4.9</td>\n",
       "    </tr>\n",
       "    <tr>\n",
       "      <th>3432</th>\n",
       "      <td>Bhangra</td>\n",
       "      <td>4.9</td>\n",
       "    </tr>\n",
       "  </tbody>\n",
       "</table>\n",
       "</div>"
      ],
      "text/plain": [
       "                                           name  aggregate_rating\n",
       "27998         TG’s - The Oriental Grill - Hyatt               4.9\n",
       "28996           The Cake Story (by Ocean Grill)               4.9\n",
       "9311                                 Feel Alive               4.9\n",
       "16452                    Level 5 Bistro and Bar               4.9\n",
       "29490                            The Great Bear               4.9\n",
       "14439                         KAVERI Restaurant               4.9\n",
       "32544                            Yanki Sizzlers               4.9\n",
       "5208                                Cafe Paashh               4.9\n",
       "16451           Level 5 - Terrace Restro & Cafe               4.9\n",
       "30306                              The Sidewalk               4.9\n",
       "2139             Asia Kitchen By Mainland China               4.9\n",
       "4282                        Brahmins Coffee Bar               4.9\n",
       "18492               MoShiks Homemade Chocolates               4.9\n",
       "14214                     Joshi Dahi Bada House               4.9\n",
       "10492  Girish Chandra Dey & Nakur Chandra Nandy               4.9\n",
       "32150                            Walking Street               4.9\n",
       "23633                   Rocky Star Cocktail Bar               4.9\n",
       "6695                                      Chool               4.9\n",
       "32920             Zolocrust - Hotel Clarks Amer               4.9\n",
       "3432                                    Bhangra               4.9"
      ]
     },
     "execution_count": 1100,
     "metadata": {},
     "output_type": "execute_result"
    }
   ],
   "source": [
    "top_chains_rating"
   ]
  },
  {
   "cell_type": "code",
   "execution_count": null,
   "metadata": {},
   "outputs": [],
   "source": []
  }
 ],
 "metadata": {
  "colab": {
   "collapsed_sections": [
    "0AQxhqayRksF",
    "TBbvg12IRksI",
    "GxRyhOiCRksl",
    "8TRu4KG2Rkss",
    "84UCg7jHRksu",
    "rv_JBRXxeboi",
    "6FT7miDFRksx",
    "aI1_PyQyRksz",
    "z4E_YK4FRks0",
    "E63nnVQlRks0",
    "KSO8FIeGRks1",
    "ukrhY1lIRks2",
    "zrowcAIvRks3",
    "cvoUd8WyRks5",
    "hSfDf7d2Rks7"
   ],
   "name": "EDA - Case Study - Zomato Dataset - [v2.0 - 180820].ipynb",
   "provenance": []
  },
  "kernelspec": {
   "display_name": "Python 3 (ipykernel)",
   "language": "python",
   "name": "python3"
  },
  "language_info": {
   "codemirror_mode": {
    "name": "ipython",
    "version": 3
   },
   "file_extension": ".py",
   "mimetype": "text/x-python",
   "name": "python",
   "nbconvert_exporter": "python",
   "pygments_lexer": "ipython3",
   "version": "3.11.7"
  }
 },
 "nbformat": 4,
 "nbformat_minor": 4
}
